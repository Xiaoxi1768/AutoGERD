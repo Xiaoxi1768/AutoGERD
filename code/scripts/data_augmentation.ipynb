{
 "cells": [
  {
   "cell_type": "code",
   "execution_count": 1,
   "metadata": {},
   "outputs": [],
   "source": [
    "import pandas as pd\n",
    "import cv2\n",
    "import numpy as np\n",
    "import os.path\n",
    "import random\n",
    "from PIL import Image\n",
    "# filename = './胃镜数据_术前/8-12月初/郭建奎/术前/image/食管/78.bmp'"
   ]
  },
  {
   "cell_type": "code",
   "execution_count": 18,
   "metadata": {},
   "outputs": [],
   "source": [
    "# 椒盐噪声\n",
    "def SaltAndPepper(src,percetage):\n",
    "    SP_NoiseImg=src.copy()\n",
    "    SP_NoiseNum=int(percetage*src.shape[0]*src.shape[1])\n",
    "    for i in range(SP_NoiseNum):\n",
    "        randR=np.random.randint(0,src.shape[0]-1)\n",
    "        randG=np.random.randint(0,src.shape[1]-1)\n",
    "        randB=np.random.randint(0,3)\n",
    "        if np.random.randint(0,1)==0:\n",
    "            SP_NoiseImg[randR,randG,randB]=0\n",
    "        else:\n",
    "            SP_NoiseImg[randR,randG,randB]=255\n",
    "    return SP_NoiseImg\n",
    "\n",
    "# 高斯噪声\n",
    "def addGaussianNoise(image,percetage):\n",
    "    G_Noiseimg = image.copy()\n",
    "    w = image.shape[1]\n",
    "    h = image.shape[0]\n",
    "    G_NoiseNum=int(percetage*image.shape[0]*image.shape[1])\n",
    "    for i in range(G_NoiseNum):\n",
    "        temp_x = np.random.randint(0,h)\n",
    "        temp_y = np.random.randint(0,w)\n",
    "        G_Noiseimg[temp_x][temp_y][np.random.randint(3)] = np.random.randn(1)[0]\n",
    "    return G_Noiseimg\n",
    "\n",
    "\n",
    "\n",
    "# 旋转\n",
    "def rotate(image, angle, center=None, scale=1.0):\n",
    "    (h, w) = image.shape[:2]\n",
    "    # If no rotation center is specified, the center of the image is set as the rotation center\n",
    "    if center is None:\n",
    "        center = (w / 2, h / 2)\n",
    "    m = cv2.getRotationMatrix2D(center, angle, scale)\n",
    "    rotated = cv2.warpAffine(image, m, (w, h))\n",
    "    return rotated\n",
    "\n",
    "# 翻转\n",
    "def flip(image):\n",
    "    flipped_image = np.fliplr(image)\n",
    "    return flipped_image\n"
   ]
  },
  {
   "cell_type": "code",
   "execution_count": 19,
   "metadata": {},
   "outputs": [],
   "source": [
    "\n",
    "# 中心裁剪\n",
    "def resizing(img):\n",
    "    height, width, channels = img.shape\n",
    "\n",
    "    r_img = img[int(height/2-height*2/6):int(height/2+height*2/6),int(width/2-width*2/6):int(width/2+width*2/6)]\n",
    "    return r_img\n"
   ]
  },
  {
   "cell_type": "code",
   "execution_count": 4,
   "metadata": {},
   "outputs": [],
   "source": [
    "trdf = pd.read_csv('./la_train_5.csv',index_col=0)\n",
    "tsdf = pd.read_csv('./la_test_5.csv',index_col=0)"
   ]
  },
  {
   "cell_type": "code",
   "execution_count": 40,
   "metadata": {},
   "outputs": [
    {
     "data": {
      "text/plain": [
       "(418, 572, 3)"
      ]
     },
     "execution_count": 40,
     "metadata": {},
     "output_type": "execute_result"
    }
   ],
   "source": [
    "resizing(img).shape"
   ]
  },
  {
   "cell_type": "code",
   "execution_count": 20,
   "metadata": {},
   "outputs": [],
   "source": [
    "#oyz\n",
    "trdf = pd.read_csv('./HRM+EIpHM+Esophagoscopes.csv',index_col=0)\n",
    "trdf = pd.DataFrame(trdf).reset_index(drop=True)"
   ]
  },
  {
   "cell_type": "code",
   "execution_count": 23,
   "metadata": {},
   "outputs": [
    {
     "data": {
      "text/plain": [
       "(736, 34)"
      ]
     },
     "execution_count": 23,
     "metadata": {},
     "output_type": "execute_result"
    }
   ],
   "source": [
    "trdf.shape"
   ]
  },
  {
   "cell_type": "code",
   "execution_count": 54,
   "metadata": {},
   "outputs": [
    {
     "ename": "KeyError",
     "evalue": "3",
     "output_type": "error",
     "traceback": [
      "\u001b[0;31m---------------------------------------------------------------------------\u001b[0m",
      "\u001b[0;31mKeyError\u001b[0m                                  Traceback (most recent call last)",
      "File \u001b[0;32m/usr/local/anaconda3/envs/AICore/lib/python3.12/site-packages/pandas/core/indexes/base.py:3805\u001b[0m, in \u001b[0;36mIndex.get_loc\u001b[0;34m(self, key)\u001b[0m\n\u001b[1;32m   3804\u001b[0m \u001b[38;5;28;01mtry\u001b[39;00m:\n\u001b[0;32m-> 3805\u001b[0m     \u001b[38;5;28;01mreturn\u001b[39;00m \u001b[38;5;28;43mself\u001b[39;49m\u001b[38;5;241;43m.\u001b[39;49m\u001b[43m_engine\u001b[49m\u001b[38;5;241;43m.\u001b[39;49m\u001b[43mget_loc\u001b[49m\u001b[43m(\u001b[49m\u001b[43mcasted_key\u001b[49m\u001b[43m)\u001b[49m\n\u001b[1;32m   3806\u001b[0m \u001b[38;5;28;01mexcept\u001b[39;00m \u001b[38;5;167;01mKeyError\u001b[39;00m \u001b[38;5;28;01mas\u001b[39;00m err:\n",
      "File \u001b[0;32mindex.pyx:167\u001b[0m, in \u001b[0;36mpandas._libs.index.IndexEngine.get_loc\u001b[0;34m()\u001b[0m\n",
      "File \u001b[0;32mindex.pyx:196\u001b[0m, in \u001b[0;36mpandas._libs.index.IndexEngine.get_loc\u001b[0;34m()\u001b[0m\n",
      "File \u001b[0;32mpandas/_libs/hashtable_class_helper.pxi:2606\u001b[0m, in \u001b[0;36mpandas._libs.hashtable.Int64HashTable.get_item\u001b[0;34m()\u001b[0m\n",
      "File \u001b[0;32mpandas/_libs/hashtable_class_helper.pxi:2630\u001b[0m, in \u001b[0;36mpandas._libs.hashtable.Int64HashTable.get_item\u001b[0;34m()\u001b[0m\n",
      "\u001b[0;31mKeyError\u001b[0m: 3",
      "\nThe above exception was the direct cause of the following exception:\n",
      "\u001b[0;31mKeyError\u001b[0m                                  Traceback (most recent call last)",
      "Cell \u001b[0;32mIn[54], line 2\u001b[0m\n\u001b[1;32m      1\u001b[0m \u001b[38;5;66;03m#oyz\u001b[39;00m\n\u001b[0;32m----> 2\u001b[0m trdf \u001b[38;5;241m=\u001b[39m \u001b[43mtrdf\u001b[49m\u001b[38;5;241;43m.\u001b[39;49m\u001b[43mloc\u001b[49m\u001b[43m[\u001b[49m\u001b[38;5;241;43m3\u001b[39;49m\u001b[43m,\u001b[49m\u001b[43m:\u001b[49m\u001b[43m]\u001b[49m\n",
      "File \u001b[0;32m/usr/local/anaconda3/envs/AICore/lib/python3.12/site-packages/pandas/core/indexing.py:1184\u001b[0m, in \u001b[0;36m_LocationIndexer.__getitem__\u001b[0;34m(self, key)\u001b[0m\n\u001b[1;32m   1182\u001b[0m     \u001b[38;5;28;01mif\u001b[39;00m \u001b[38;5;28mself\u001b[39m\u001b[38;5;241m.\u001b[39m_is_scalar_access(key):\n\u001b[1;32m   1183\u001b[0m         \u001b[38;5;28;01mreturn\u001b[39;00m \u001b[38;5;28mself\u001b[39m\u001b[38;5;241m.\u001b[39mobj\u001b[38;5;241m.\u001b[39m_get_value(\u001b[38;5;241m*\u001b[39mkey, takeable\u001b[38;5;241m=\u001b[39m\u001b[38;5;28mself\u001b[39m\u001b[38;5;241m.\u001b[39m_takeable)\n\u001b[0;32m-> 1184\u001b[0m     \u001b[38;5;28;01mreturn\u001b[39;00m \u001b[38;5;28;43mself\u001b[39;49m\u001b[38;5;241;43m.\u001b[39;49m\u001b[43m_getitem_tuple\u001b[49m\u001b[43m(\u001b[49m\u001b[43mkey\u001b[49m\u001b[43m)\u001b[49m\n\u001b[1;32m   1185\u001b[0m \u001b[38;5;28;01melse\u001b[39;00m:\n\u001b[1;32m   1186\u001b[0m     \u001b[38;5;66;03m# we by definition only have the 0th axis\u001b[39;00m\n\u001b[1;32m   1187\u001b[0m     axis \u001b[38;5;241m=\u001b[39m \u001b[38;5;28mself\u001b[39m\u001b[38;5;241m.\u001b[39maxis \u001b[38;5;129;01mor\u001b[39;00m \u001b[38;5;241m0\u001b[39m\n",
      "File \u001b[0;32m/usr/local/anaconda3/envs/AICore/lib/python3.12/site-packages/pandas/core/indexing.py:1368\u001b[0m, in \u001b[0;36m_LocIndexer._getitem_tuple\u001b[0;34m(self, tup)\u001b[0m\n\u001b[1;32m   1366\u001b[0m \u001b[38;5;28;01mwith\u001b[39;00m suppress(IndexingError):\n\u001b[1;32m   1367\u001b[0m     tup \u001b[38;5;241m=\u001b[39m \u001b[38;5;28mself\u001b[39m\u001b[38;5;241m.\u001b[39m_expand_ellipsis(tup)\n\u001b[0;32m-> 1368\u001b[0m     \u001b[38;5;28;01mreturn\u001b[39;00m \u001b[38;5;28;43mself\u001b[39;49m\u001b[38;5;241;43m.\u001b[39;49m\u001b[43m_getitem_lowerdim\u001b[49m\u001b[43m(\u001b[49m\u001b[43mtup\u001b[49m\u001b[43m)\u001b[49m\n\u001b[1;32m   1370\u001b[0m \u001b[38;5;66;03m# no multi-index, so validate all of the indexers\u001b[39;00m\n\u001b[1;32m   1371\u001b[0m tup \u001b[38;5;241m=\u001b[39m \u001b[38;5;28mself\u001b[39m\u001b[38;5;241m.\u001b[39m_validate_tuple_indexer(tup)\n",
      "File \u001b[0;32m/usr/local/anaconda3/envs/AICore/lib/python3.12/site-packages/pandas/core/indexing.py:1065\u001b[0m, in \u001b[0;36m_LocationIndexer._getitem_lowerdim\u001b[0;34m(self, tup)\u001b[0m\n\u001b[1;32m   1061\u001b[0m \u001b[38;5;28;01mfor\u001b[39;00m i, key \u001b[38;5;129;01min\u001b[39;00m \u001b[38;5;28menumerate\u001b[39m(tup):\n\u001b[1;32m   1062\u001b[0m     \u001b[38;5;28;01mif\u001b[39;00m is_label_like(key):\n\u001b[1;32m   1063\u001b[0m         \u001b[38;5;66;03m# We don't need to check for tuples here because those are\u001b[39;00m\n\u001b[1;32m   1064\u001b[0m         \u001b[38;5;66;03m#  caught by the _is_nested_tuple_indexer check above.\u001b[39;00m\n\u001b[0;32m-> 1065\u001b[0m         section \u001b[38;5;241m=\u001b[39m \u001b[38;5;28;43mself\u001b[39;49m\u001b[38;5;241;43m.\u001b[39;49m\u001b[43m_getitem_axis\u001b[49m\u001b[43m(\u001b[49m\u001b[43mkey\u001b[49m\u001b[43m,\u001b[49m\u001b[43m \u001b[49m\u001b[43maxis\u001b[49m\u001b[38;5;241;43m=\u001b[39;49m\u001b[43mi\u001b[49m\u001b[43m)\u001b[49m\n\u001b[1;32m   1067\u001b[0m         \u001b[38;5;66;03m# We should never have a scalar section here, because\u001b[39;00m\n\u001b[1;32m   1068\u001b[0m         \u001b[38;5;66;03m#  _getitem_lowerdim is only called after a check for\u001b[39;00m\n\u001b[1;32m   1069\u001b[0m         \u001b[38;5;66;03m#  is_scalar_access, which that would be.\u001b[39;00m\n\u001b[1;32m   1070\u001b[0m         \u001b[38;5;28;01mif\u001b[39;00m section\u001b[38;5;241m.\u001b[39mndim \u001b[38;5;241m==\u001b[39m \u001b[38;5;28mself\u001b[39m\u001b[38;5;241m.\u001b[39mndim:\n\u001b[1;32m   1071\u001b[0m             \u001b[38;5;66;03m# we're in the middle of slicing through a MultiIndex\u001b[39;00m\n\u001b[1;32m   1072\u001b[0m             \u001b[38;5;66;03m# revise the key wrt to `section` by inserting an _NS\u001b[39;00m\n",
      "File \u001b[0;32m/usr/local/anaconda3/envs/AICore/lib/python3.12/site-packages/pandas/core/indexing.py:1431\u001b[0m, in \u001b[0;36m_LocIndexer._getitem_axis\u001b[0;34m(self, key, axis)\u001b[0m\n\u001b[1;32m   1429\u001b[0m \u001b[38;5;66;03m# fall thru to straight lookup\u001b[39;00m\n\u001b[1;32m   1430\u001b[0m \u001b[38;5;28mself\u001b[39m\u001b[38;5;241m.\u001b[39m_validate_key(key, axis)\n\u001b[0;32m-> 1431\u001b[0m \u001b[38;5;28;01mreturn\u001b[39;00m \u001b[38;5;28;43mself\u001b[39;49m\u001b[38;5;241;43m.\u001b[39;49m\u001b[43m_get_label\u001b[49m\u001b[43m(\u001b[49m\u001b[43mkey\u001b[49m\u001b[43m,\u001b[49m\u001b[43m \u001b[49m\u001b[43maxis\u001b[49m\u001b[38;5;241;43m=\u001b[39;49m\u001b[43maxis\u001b[49m\u001b[43m)\u001b[49m\n",
      "File \u001b[0;32m/usr/local/anaconda3/envs/AICore/lib/python3.12/site-packages/pandas/core/indexing.py:1381\u001b[0m, in \u001b[0;36m_LocIndexer._get_label\u001b[0;34m(self, label, axis)\u001b[0m\n\u001b[1;32m   1379\u001b[0m \u001b[38;5;28;01mdef\u001b[39;00m \u001b[38;5;21m_get_label\u001b[39m(\u001b[38;5;28mself\u001b[39m, label, axis: AxisInt):\n\u001b[1;32m   1380\u001b[0m     \u001b[38;5;66;03m# GH#5567 this will fail if the label is not present in the axis.\u001b[39;00m\n\u001b[0;32m-> 1381\u001b[0m     \u001b[38;5;28;01mreturn\u001b[39;00m \u001b[38;5;28;43mself\u001b[39;49m\u001b[38;5;241;43m.\u001b[39;49m\u001b[43mobj\u001b[49m\u001b[38;5;241;43m.\u001b[39;49m\u001b[43mxs\u001b[49m\u001b[43m(\u001b[49m\u001b[43mlabel\u001b[49m\u001b[43m,\u001b[49m\u001b[43m \u001b[49m\u001b[43maxis\u001b[49m\u001b[38;5;241;43m=\u001b[39;49m\u001b[43maxis\u001b[49m\u001b[43m)\u001b[49m\n",
      "File \u001b[0;32m/usr/local/anaconda3/envs/AICore/lib/python3.12/site-packages/pandas/core/generic.py:4301\u001b[0m, in \u001b[0;36mNDFrame.xs\u001b[0;34m(self, key, axis, level, drop_level)\u001b[0m\n\u001b[1;32m   4299\u001b[0m             new_index \u001b[38;5;241m=\u001b[39m index[loc]\n\u001b[1;32m   4300\u001b[0m \u001b[38;5;28;01melse\u001b[39;00m:\n\u001b[0;32m-> 4301\u001b[0m     loc \u001b[38;5;241m=\u001b[39m \u001b[43mindex\u001b[49m\u001b[38;5;241;43m.\u001b[39;49m\u001b[43mget_loc\u001b[49m\u001b[43m(\u001b[49m\u001b[43mkey\u001b[49m\u001b[43m)\u001b[49m\n\u001b[1;32m   4303\u001b[0m     \u001b[38;5;28;01mif\u001b[39;00m \u001b[38;5;28misinstance\u001b[39m(loc, np\u001b[38;5;241m.\u001b[39mndarray):\n\u001b[1;32m   4304\u001b[0m         \u001b[38;5;28;01mif\u001b[39;00m loc\u001b[38;5;241m.\u001b[39mdtype \u001b[38;5;241m==\u001b[39m np\u001b[38;5;241m.\u001b[39mbool_:\n",
      "File \u001b[0;32m/usr/local/anaconda3/envs/AICore/lib/python3.12/site-packages/pandas/core/indexes/base.py:3812\u001b[0m, in \u001b[0;36mIndex.get_loc\u001b[0;34m(self, key)\u001b[0m\n\u001b[1;32m   3807\u001b[0m     \u001b[38;5;28;01mif\u001b[39;00m \u001b[38;5;28misinstance\u001b[39m(casted_key, \u001b[38;5;28mslice\u001b[39m) \u001b[38;5;129;01mor\u001b[39;00m (\n\u001b[1;32m   3808\u001b[0m         \u001b[38;5;28misinstance\u001b[39m(casted_key, abc\u001b[38;5;241m.\u001b[39mIterable)\n\u001b[1;32m   3809\u001b[0m         \u001b[38;5;129;01mand\u001b[39;00m \u001b[38;5;28many\u001b[39m(\u001b[38;5;28misinstance\u001b[39m(x, \u001b[38;5;28mslice\u001b[39m) \u001b[38;5;28;01mfor\u001b[39;00m x \u001b[38;5;129;01min\u001b[39;00m casted_key)\n\u001b[1;32m   3810\u001b[0m     ):\n\u001b[1;32m   3811\u001b[0m         \u001b[38;5;28;01mraise\u001b[39;00m InvalidIndexError(key)\n\u001b[0;32m-> 3812\u001b[0m     \u001b[38;5;28;01mraise\u001b[39;00m \u001b[38;5;167;01mKeyError\u001b[39;00m(key) \u001b[38;5;28;01mfrom\u001b[39;00m \u001b[38;5;21;01merr\u001b[39;00m\n\u001b[1;32m   3813\u001b[0m \u001b[38;5;28;01mexcept\u001b[39;00m \u001b[38;5;167;01mTypeError\u001b[39;00m:\n\u001b[1;32m   3814\u001b[0m     \u001b[38;5;66;03m# If we have a listlike key, _check_indexing_error will raise\u001b[39;00m\n\u001b[1;32m   3815\u001b[0m     \u001b[38;5;66;03m#  InvalidIndexError. Otherwise we fall through and re-raise\u001b[39;00m\n\u001b[1;32m   3816\u001b[0m     \u001b[38;5;66;03m#  the TypeError.\u001b[39;00m\n\u001b[1;32m   3817\u001b[0m     \u001b[38;5;28mself\u001b[39m\u001b[38;5;241m.\u001b[39m_check_indexing_error(key)\n",
      "\u001b[0;31mKeyError\u001b[0m: 3"
     ]
    }
   ],
   "source": [
    "#oyz\n",
    "trdf = trdf.loc[3,:]"
   ]
  },
  {
   "cell_type": "code",
   "execution_count": 24,
   "metadata": {},
   "outputs": [],
   "source": [
    "trau=[]\n",
    "tr = []\n",
    "\n",
    "# file_dir = './Gerd_C_LA/'\n",
    "file_dir = '../output/'\n",
    "\n",
    "for i in range(len(trdf)):\n",
    "    label_tr = trdf.loc[i,'label']\n",
    "    imgpath = trdf.loc[i,'path']\n",
    "    if label_tr>=1:\n",
    "        label_tr = 1\n",
    "        label_name = 'surgery'\n",
    "    else:\n",
    "        label_name = 'surgery_free'\n",
    "    img = cv2.imread(imgpath)\n",
    "    # img = './output'\n",
    "    # path = file_dir+'train/'+label_name+\"/\"\n",
    "    path = file_dir\n",
    "    if not os.path.exists(path+imgpath.split('/')[3]):\n",
    "        os.makedirs(path+imgpath.split('/')[3])\n",
    "    cv2.imwrite(path+imgpath.split('/')[3]+'/'+str(i)+'.jpg',img)\n",
    "    # trau.append([path+imgpath.split('/')[3]+'/'+str(i)+'.jpg',label_name])\n",
    "    trau.append([path+imgpath.split('/')[3]+'/'+str(i)+'.jpg',label_name,trdf.iloc[i,2:]])\n",
    "    tr.append([path+imgpath.split('/')[3]+'/'+str(i)+'.jpg',label_name])\n",
    "\n",
    "    rotated_90 = rotate(img, 90)\n",
    "    cv2.imwrite(path+imgpath.split('/')[3]+'/'+str(i)+'_r90.jpg', rotated_90)\n",
    "    trau.append([path+imgpath.split('/')[3]+'/'+str(i)+'_r90.jpg',label_name,trdf.iloc[i,2:]])\n",
    "\n",
    "    rotated_180 = rotate(img, 180)\n",
    "    cv2.imwrite(path+imgpath.split('/')[3]+'/'+str(i)+'_r180.jpg', rotated_180)\n",
    "    trau.append([path+imgpath.split('/')[3]+'/'+str(i)+'_r180.jpg',label_name,trdf.iloc[i,2:]])\n",
    "\n",
    "    flipped_img = flip(img)\n",
    "    cv2.imwrite(path+imgpath.split('/')[3]+'/'+str(i)+ '_fli.jpg', flipped_img)\n",
    "    trau.append([path+imgpath.split('/')[3]+'/'+str(i)+'_fli.jpg',label_name,trdf.iloc[i,2:]])\n",
    "    \n",
    "    #oyz\n",
    "    flipped_img_90 = rotate(flipped_img,90)\n",
    "    cv2.imwrite(path+imgpath.split('/')[3]+'/'+str(i)+'_f_r90.jpg', flipped_img_90)\n",
    "    trau.append([path+imgpath.split('/')[3]+'/'+str(i)+'_f_r90.jpg',label_name,trdf.iloc[i,2:]])\n",
    "    flipped_img_180 = rotate(flipped_img,180)\n",
    "    cv2.imwrite(path+imgpath.split('/')[3]+'/'+str(i)+'_f_r180.jpg', flipped_img_180)\n",
    "    trau.append([path+imgpath.split('/')[3]+'/'+str(i)+'_f_r180.jpg',label_name,trdf.iloc[i,2:]])\n",
    "\n",
    "    img_gauss = addGaussianNoise(img, 0.3)\n",
    "    cv2.imwrite(path+imgpath.split('/')[3]+'/'+str(i)+ '_noise.jpg',img_gauss)\n",
    "    trau.append([path+imgpath.split('/')[3]+'/'+str(i)+'_noise.jpg',label_name,trdf.iloc[i,2:]])\n",
    "    \n",
    "    gs_90 = rotate(img, 90)\n",
    "    cv2.imwrite(path+imgpath.split('/')[3]+'/'+str(i)+'_noise_r90.jpg', rotated_90)\n",
    "    trau.append([path+imgpath.split('/')[3]+'/'+str(i)+'_noise_r90.jpg',label_name,trdf.iloc[i,2:]])\n",
    "    \n",
    "    gs_180 = rotate(img, 180)\n",
    "    cv2.imwrite(path+imgpath.split('/')[3]+'/'+str(i)+'_noise_r180.jpg', rotated_90)\n",
    "    trau.append([path+imgpath.split('/')[3]+'/'+str(i)+'_noise_r180.jpg',label_name,trdf.iloc[i,2:]])\n",
    "\n",
    "    blur = cv2.GaussianBlur(img, (3, 3), 0)\n",
    "    cv2.imwrite(path+imgpath.split('/')[3]+'/'+str(i)+ '_blur.jpg',blur)\n",
    "    trau.append([path+imgpath.split('/')[3]+'/'+str(i)+'_blur.jpg',label_name,trdf.iloc[i,2:]])\n",
    "    \n",
    "    blur_90 = rotate(img, 90)\n",
    "    cv2.imwrite(path+imgpath.split('/')[3]+'/'+str(i)+'_blur_r90.jpg', rotated_90)\n",
    "    trau.append([path+imgpath.split('/')[3]+'/'+str(i)+'_blur_r90.jpg',label_name,trdf.iloc[i,2:]])\n",
    "    \n",
    "    blur_180 = rotate(img, 180)\n",
    "    cv2.imwrite(path+imgpath.split('/')[3]+'/'+str(i)+'_blur_r180.jpg', rotated_90)\n",
    "    trau.append([path+imgpath.split('/')[3]+'/'+str(i)+'_blur_r180.jpg',label_name,trdf.iloc[i,2:]])\n",
    "\n",
    "    rs = resizing(img)\n",
    "    cv2.imwrite(path+imgpath.split('/')[3]+'/'+str(i)+ '_resizing.jpg',rs)\n",
    "    trau.append([path+imgpath.split('/')[3]+'/'+str(i)+'_resizing.jpg',label_name,trdf.iloc[i,2:]])\n",
    "    \n",
    "    #oyz\n",
    "    rs_90 = rotate(rs,90)\n",
    "    cv2.imwrite(path+imgpath.split('/')[3]+'/'+str(i)+'_rs_r90.jpg', rs_90)\n",
    "    trau.append([path+imgpath.split('/')[3]+'/'+str(i)+'_rs_r90.jpg',label_name,trdf.iloc[i,2:]])\n",
    "    rs_180 = rotate(rs,180)\n",
    "    cv2.imwrite(path+imgpath.split('/')[3]+'/'+str(i)+'_rs_r180.jpg', rs_180)\n",
    "    trau.append([path+imgpath.split('/')[3]+'/'+str(i)+'_rs_r180.jpg',label_name,trdf.iloc[i,2:]])\n",
    "    rs_flip = flip(rs)\n",
    "    cv2.imwrite(path+imgpath.split('/')[3]+'/'+str(i)+ '_rs_fli.jpg', rs_flip)\n",
    "    trau.append([path+imgpath.split('/')[3]+'/'+str(i)+'_rs_fli.jpg',label_name,trdf.iloc[i,2:]])\n",
    "    rs_flip_90 = rotate(rs_flip,90)\n",
    "    cv2.imwrite(path+imgpath.split('/')[3]+'/'+str(i)+'_rs_fli_r90.jpg', rs_flip_90)\n",
    "    trau.append([path+imgpath.split('/')[3]+'/'+str(i)+'_rs_fli_r90.jpg',label_name,trdf.iloc[i,2:]])\n",
    "    rs_flip_180 = rotate(rs_flip,180)\n",
    "    cv2.imwrite(path+imgpath.split('/')[3]+'/'+str(i)+'_rs_fli_r180.jpg', rs_flip_180)\n",
    "    trau.append([path+imgpath.split('/')[3]+'/'+str(i)+'_rs_fli_r180.jpg',label_name,trdf.iloc[i,2:]])\n",
    "    \n"
   ]
  },
  {
   "cell_type": "code",
   "execution_count": 25,
   "metadata": {},
   "outputs": [
    {
     "data": {
      "text/plain": [
       "Index(['path', 'label', 'WMT', 'RE', 'TRE', 'PUT', 'PST', 'PTT', 'TRAC', 'LRE',\n",
       "       'DMS', 'RE-L-Ac', 'RE-L-Wa', 'RE-L-Al', 'RE-L-Ak', 'RE-M-Ac', 'RE-M-Wa',\n",
       "       'RE-M-Al', 'RE-M-Ak', 'RE-T-Ac', 'RE-T-Wa', 'RE-T-Al', 'RE-T-Ak', 'CFV',\n",
       "       'LESP', 'LES-IRP', 'DL', 'DCI', 'LES-length', 'IBP', 'PIP', 'HH', 'PC',\n",
       "       'SC'],\n",
       "      dtype='object')"
      ]
     },
     "execution_count": 25,
     "metadata": {},
     "output_type": "execute_result"
    }
   ],
   "source": [
    "trdf.columns"
   ]
  },
  {
   "cell_type": "code",
   "execution_count": 26,
   "metadata": {},
   "outputs": [
    {
     "data": {
      "application/vnd.microsoft.datawrangler.viewer.v0+json": {
       "columns": [
        {
         "name": "index",
         "rawType": "int64",
         "type": "integer"
        },
        {
         "name": "WMT",
         "rawType": "float64",
         "type": "float"
        },
        {
         "name": "RE",
         "rawType": "float64",
         "type": "float"
        },
        {
         "name": "TRE",
         "rawType": "float64",
         "type": "float"
        },
        {
         "name": "PUT",
         "rawType": "float64",
         "type": "float"
        },
        {
         "name": "PST",
         "rawType": "float64",
         "type": "float"
        },
        {
         "name": "PTT",
         "rawType": "float64",
         "type": "float"
        },
        {
         "name": "TRAC",
         "rawType": "float64",
         "type": "float"
        },
        {
         "name": "LRE",
         "rawType": "float64",
         "type": "float"
        },
        {
         "name": "DMS",
         "rawType": "float64",
         "type": "float"
        },
        {
         "name": "RE-L-Ac",
         "rawType": "float64",
         "type": "float"
        },
        {
         "name": "RE-L-Wa",
         "rawType": "float64",
         "type": "float"
        },
        {
         "name": "RE-L-Al",
         "rawType": "float64",
         "type": "float"
        },
        {
         "name": "RE-L-Ak",
         "rawType": "float64",
         "type": "float"
        },
        {
         "name": "RE-M-Ac",
         "rawType": "float64",
         "type": "float"
        },
        {
         "name": "RE-M-Wa",
         "rawType": "float64",
         "type": "float"
        },
        {
         "name": "RE-M-Al",
         "rawType": "float64",
         "type": "float"
        },
        {
         "name": "RE-M-Ak",
         "rawType": "float64",
         "type": "float"
        },
        {
         "name": "RE-T-Ac",
         "rawType": "float64",
         "type": "float"
        },
        {
         "name": "RE-T-Wa",
         "rawType": "float64",
         "type": "float"
        },
        {
         "name": "RE-T-Al",
         "rawType": "float64",
         "type": "float"
        },
        {
         "name": "RE-T-Ak",
         "rawType": "float64",
         "type": "float"
        },
        {
         "name": "CFV",
         "rawType": "float64",
         "type": "float"
        },
        {
         "name": "LESP",
         "rawType": "float64",
         "type": "float"
        },
        {
         "name": "LES-IRP",
         "rawType": "float64",
         "type": "float"
        },
        {
         "name": "DL",
         "rawType": "float64",
         "type": "float"
        },
        {
         "name": "DCI",
         "rawType": "float64",
         "type": "float"
        },
        {
         "name": "LES-length",
         "rawType": "float64",
         "type": "float"
        },
        {
         "name": "IBP",
         "rawType": "float64",
         "type": "float"
        },
        {
         "name": "PIP",
         "rawType": "float64",
         "type": "float"
        },
        {
         "name": "HH",
         "rawType": "float64",
         "type": "float"
        },
        {
         "name": "PC",
         "rawType": "float64",
         "type": "float"
        },
        {
         "name": "SC",
         "rawType": "float64",
         "type": "float"
        }
       ],
       "ref": "ff428778-df70-49f0-bee3-5dc847093a61",
       "rows": [
        [
         "0",
         "43430.0",
         "32.0",
         "1962.0",
         "4.0",
         "5.6",
         "4.5",
         "61.0",
         "483.0",
         "18.6",
         "3.0",
         "3.0",
         "0.0",
         "6.0",
         "19.0",
         "18.0",
         "1.0",
         "38.0",
         "22.0",
         "21.0",
         "1.0",
         "44.0",
         "3.15",
         "-4.5",
         "-7.2",
         "10.09",
         "2103.8",
         "1.81",
         "13.1",
         "50.5",
         "1.0",
         "10.0",
         "0.0"
        ]
       ],
       "shape": {
        "columns": 32,
        "rows": 1
       }
      },
      "text/html": [
       "<div>\n",
       "<style scoped>\n",
       "    .dataframe tbody tr th:only-of-type {\n",
       "        vertical-align: middle;\n",
       "    }\n",
       "\n",
       "    .dataframe tbody tr th {\n",
       "        vertical-align: top;\n",
       "    }\n",
       "\n",
       "    .dataframe thead th {\n",
       "        text-align: right;\n",
       "    }\n",
       "</style>\n",
       "<table border=\"1\" class=\"dataframe\">\n",
       "  <thead>\n",
       "    <tr style=\"text-align: right;\">\n",
       "      <th></th>\n",
       "      <th>WMT</th>\n",
       "      <th>RE</th>\n",
       "      <th>TRE</th>\n",
       "      <th>PUT</th>\n",
       "      <th>PST</th>\n",
       "      <th>PTT</th>\n",
       "      <th>TRAC</th>\n",
       "      <th>LRE</th>\n",
       "      <th>DMS</th>\n",
       "      <th>RE-L-Ac</th>\n",
       "      <th>...</th>\n",
       "      <th>LESP</th>\n",
       "      <th>LES-IRP</th>\n",
       "      <th>DL</th>\n",
       "      <th>DCI</th>\n",
       "      <th>LES-length</th>\n",
       "      <th>IBP</th>\n",
       "      <th>PIP</th>\n",
       "      <th>HH</th>\n",
       "      <th>PC</th>\n",
       "      <th>SC</th>\n",
       "    </tr>\n",
       "  </thead>\n",
       "  <tbody>\n",
       "    <tr>\n",
       "      <th>0</th>\n",
       "      <td>43430.0</td>\n",
       "      <td>32.0</td>\n",
       "      <td>1962.0</td>\n",
       "      <td>4.0</td>\n",
       "      <td>5.6</td>\n",
       "      <td>4.5</td>\n",
       "      <td>61.0</td>\n",
       "      <td>483.0</td>\n",
       "      <td>18.6</td>\n",
       "      <td>3.0</td>\n",
       "      <td>...</td>\n",
       "      <td>-4.5</td>\n",
       "      <td>-7.2</td>\n",
       "      <td>10.09</td>\n",
       "      <td>2103.8</td>\n",
       "      <td>1.81</td>\n",
       "      <td>13.1</td>\n",
       "      <td>50.5</td>\n",
       "      <td>1.0</td>\n",
       "      <td>10.0</td>\n",
       "      <td>0.0</td>\n",
       "    </tr>\n",
       "  </tbody>\n",
       "</table>\n",
       "<p>1 rows × 32 columns</p>\n",
       "</div>"
      ],
      "text/plain": [
       "       WMT    RE     TRE  PUT  PST  PTT  TRAC    LRE   DMS  RE-L-Ac  ...  \\\n",
       "0  43430.0  32.0  1962.0  4.0  5.6  4.5  61.0  483.0  18.6      3.0  ...   \n",
       "\n",
       "   LESP  LES-IRP     DL     DCI  LES-length   IBP   PIP   HH    PC   SC  \n",
       "0  -4.5     -7.2  10.09  2103.8        1.81  13.1  50.5  1.0  10.0  0.0  \n",
       "\n",
       "[1 rows x 32 columns]"
      ]
     },
     "execution_count": 26,
     "metadata": {},
     "output_type": "execute_result"
    }
   ],
   "source": [
    "# temp_temp = pd.DataFrame([trau[14][0:2]],columns=['path','label'])\n",
    "# temp_temp = pd.concat([temp_temp,pd.DataFrame(trau[14][2:])],axis=1)\n",
    "# temp_temp\n",
    "# pd.DataFrame([trau[1][0:2]],columns=['path','label'])\n",
    "pd.DataFrame(trau[1][2:])"
   ]
  },
  {
   "cell_type": "code",
   "execution_count": 27,
   "metadata": {},
   "outputs": [],
   "source": [
    "temp = pd.DataFrame()\n",
    "for i in range(len(trau)):\n",
    "    temp_temp = pd.DataFrame([trau[i][0:2]],columns=['path','label'])\n",
    "    temp_temp = pd.concat([temp_temp,pd.DataFrame(trau[i][2:]).reset_index(drop=True)],axis=1)\n",
    "    if(temp_temp.shape[0]>1):\n",
    "        print(temp_temp)\n",
    "    temp = pd.concat([temp,temp_temp])"
   ]
  },
  {
   "cell_type": "code",
   "execution_count": 28,
   "metadata": {},
   "outputs": [
    {
     "data": {
      "text/plain": [
       "(13248, 34)"
      ]
     },
     "execution_count": 28,
     "metadata": {},
     "output_type": "execute_result"
    }
   ],
   "source": [
    "temp.shape"
   ]
  },
  {
   "cell_type": "code",
   "execution_count": 29,
   "metadata": {},
   "outputs": [],
   "source": [
    "temp.to_csv('../output/temp_data/all_data.csv',index=False)"
   ]
  },
  {
   "cell_type": "code",
   "execution_count": 3,
   "metadata": {},
   "outputs": [],
   "source": [
    "temp = pd.read_csv('../output/temp_data/all_data.csv')"
   ]
  },
  {
   "cell_type": "code",
   "execution_count": 30,
   "metadata": {},
   "outputs": [
    {
     "data": {
      "application/vnd.microsoft.datawrangler.viewer.v0+json": {
       "columns": [
        {
         "name": "index",
         "rawType": "int64",
         "type": "integer"
        },
        {
         "name": "path",
         "rawType": "object",
         "type": "string"
        },
        {
         "name": "label",
         "rawType": "object",
         "type": "string"
        },
        {
         "name": "WMT",
         "rawType": "float64",
         "type": "float"
        },
        {
         "name": "RE",
         "rawType": "float64",
         "type": "float"
        },
        {
         "name": "TRE",
         "rawType": "float64",
         "type": "float"
        },
        {
         "name": "PUT",
         "rawType": "float64",
         "type": "float"
        },
        {
         "name": "PST",
         "rawType": "float64",
         "type": "float"
        },
        {
         "name": "PTT",
         "rawType": "float64",
         "type": "float"
        },
        {
         "name": "TRAC",
         "rawType": "float64",
         "type": "float"
        },
        {
         "name": "LRE",
         "rawType": "float64",
         "type": "float"
        },
        {
         "name": "DMS",
         "rawType": "float64",
         "type": "float"
        },
        {
         "name": "RE-L-Ac",
         "rawType": "float64",
         "type": "float"
        },
        {
         "name": "RE-L-Wa",
         "rawType": "float64",
         "type": "float"
        },
        {
         "name": "RE-L-Al",
         "rawType": "float64",
         "type": "float"
        },
        {
         "name": "RE-L-Ak",
         "rawType": "float64",
         "type": "float"
        },
        {
         "name": "RE-M-Ac",
         "rawType": "float64",
         "type": "float"
        },
        {
         "name": "RE-M-Wa",
         "rawType": "float64",
         "type": "float"
        },
        {
         "name": "RE-M-Al",
         "rawType": "float64",
         "type": "float"
        },
        {
         "name": "RE-M-Ak",
         "rawType": "float64",
         "type": "float"
        },
        {
         "name": "RE-T-Ac",
         "rawType": "float64",
         "type": "float"
        },
        {
         "name": "RE-T-Wa",
         "rawType": "float64",
         "type": "float"
        },
        {
         "name": "RE-T-Al",
         "rawType": "float64",
         "type": "float"
        },
        {
         "name": "RE-T-Ak",
         "rawType": "float64",
         "type": "float"
        },
        {
         "name": "CFV",
         "rawType": "float64",
         "type": "float"
        },
        {
         "name": "LESP",
         "rawType": "float64",
         "type": "float"
        },
        {
         "name": "LES-IRP",
         "rawType": "float64",
         "type": "float"
        },
        {
         "name": "DL",
         "rawType": "float64",
         "type": "float"
        },
        {
         "name": "DCI",
         "rawType": "float64",
         "type": "float"
        },
        {
         "name": "LES-length",
         "rawType": "float64",
         "type": "float"
        },
        {
         "name": "IBP",
         "rawType": "float64",
         "type": "float"
        },
        {
         "name": "PIP",
         "rawType": "float64",
         "type": "float"
        },
        {
         "name": "HH",
         "rawType": "float64",
         "type": "float"
        },
        {
         "name": "PC",
         "rawType": "float64",
         "type": "float"
        },
        {
         "name": "SC",
         "rawType": "float64",
         "type": "float"
        }
       ],
       "ref": "976fcec6-4ca9-4626-9270-52c53eaf44ba",
       "rows": [
        [
         "0",
         "../output/surgery_free/0.jpg",
         "surgery",
         "43430.0",
         "32.0",
         "1962.0",
         "4.0",
         "5.6",
         "4.5",
         "61.0",
         "483.0",
         "18.6",
         "3.0",
         "3.0",
         "0.0",
         "6.0",
         "19.0",
         "18.0",
         "1.0",
         "38.0",
         "22.0",
         "21.0",
         "1.0",
         "44.0",
         "3.15",
         "-4.5",
         "-7.2",
         "10.09",
         "2103.8",
         "1.81",
         "13.1",
         "50.5",
         "1.0",
         "10.0",
         "0.0"
        ],
        [
         "0",
         "../output/surgery_free/0_r90.jpg",
         "surgery",
         "43430.0",
         "32.0",
         "1962.0",
         "4.0",
         "5.6",
         "4.5",
         "61.0",
         "483.0",
         "18.6",
         "3.0",
         "3.0",
         "0.0",
         "6.0",
         "19.0",
         "18.0",
         "1.0",
         "38.0",
         "22.0",
         "21.0",
         "1.0",
         "44.0",
         "3.15",
         "-4.5",
         "-7.2",
         "10.09",
         "2103.8",
         "1.81",
         "13.1",
         "50.5",
         "1.0",
         "10.0",
         "0.0"
        ],
        [
         "0",
         "../output/surgery_free/0_r180.jpg",
         "surgery",
         "43430.0",
         "32.0",
         "1962.0",
         "4.0",
         "5.6",
         "4.5",
         "61.0",
         "483.0",
         "18.6",
         "3.0",
         "3.0",
         "0.0",
         "6.0",
         "19.0",
         "18.0",
         "1.0",
         "38.0",
         "22.0",
         "21.0",
         "1.0",
         "44.0",
         "3.15",
         "-4.5",
         "-7.2",
         "10.09",
         "2103.8",
         "1.81",
         "13.1",
         "50.5",
         "1.0",
         "10.0",
         "0.0"
        ],
        [
         "0",
         "../output/surgery_free/0_fli.jpg",
         "surgery",
         "43430.0",
         "32.0",
         "1962.0",
         "4.0",
         "5.6",
         "4.5",
         "61.0",
         "483.0",
         "18.6",
         "3.0",
         "3.0",
         "0.0",
         "6.0",
         "19.0",
         "18.0",
         "1.0",
         "38.0",
         "22.0",
         "21.0",
         "1.0",
         "44.0",
         "3.15",
         "-4.5",
         "-7.2",
         "10.09",
         "2103.8",
         "1.81",
         "13.1",
         "50.5",
         "1.0",
         "10.0",
         "0.0"
        ],
        [
         "0",
         "../output/surgery_free/0_f_r90.jpg",
         "surgery",
         "43430.0",
         "32.0",
         "1962.0",
         "4.0",
         "5.6",
         "4.5",
         "61.0",
         "483.0",
         "18.6",
         "3.0",
         "3.0",
         "0.0",
         "6.0",
         "19.0",
         "18.0",
         "1.0",
         "38.0",
         "22.0",
         "21.0",
         "1.0",
         "44.0",
         "3.15",
         "-4.5",
         "-7.2",
         "10.09",
         "2103.8",
         "1.81",
         "13.1",
         "50.5",
         "1.0",
         "10.0",
         "0.0"
        ],
        [
         "0",
         "../output/surgery_free/0_f_r180.jpg",
         "surgery",
         "43430.0",
         "32.0",
         "1962.0",
         "4.0",
         "5.6",
         "4.5",
         "61.0",
         "483.0",
         "18.6",
         "3.0",
         "3.0",
         "0.0",
         "6.0",
         "19.0",
         "18.0",
         "1.0",
         "38.0",
         "22.0",
         "21.0",
         "1.0",
         "44.0",
         "3.15",
         "-4.5",
         "-7.2",
         "10.09",
         "2103.8",
         "1.81",
         "13.1",
         "50.5",
         "1.0",
         "10.0",
         "0.0"
        ],
        [
         "0",
         "../output/surgery_free/0_noise.jpg",
         "surgery",
         "43430.0",
         "32.0",
         "1962.0",
         "4.0",
         "5.6",
         "4.5",
         "61.0",
         "483.0",
         "18.6",
         "3.0",
         "3.0",
         "0.0",
         "6.0",
         "19.0",
         "18.0",
         "1.0",
         "38.0",
         "22.0",
         "21.0",
         "1.0",
         "44.0",
         "3.15",
         "-4.5",
         "-7.2",
         "10.09",
         "2103.8",
         "1.81",
         "13.1",
         "50.5",
         "1.0",
         "10.0",
         "0.0"
        ],
        [
         "0",
         "../output/surgery_free/0_noise_r90.jpg",
         "surgery",
         "43430.0",
         "32.0",
         "1962.0",
         "4.0",
         "5.6",
         "4.5",
         "61.0",
         "483.0",
         "18.6",
         "3.0",
         "3.0",
         "0.0",
         "6.0",
         "19.0",
         "18.0",
         "1.0",
         "38.0",
         "22.0",
         "21.0",
         "1.0",
         "44.0",
         "3.15",
         "-4.5",
         "-7.2",
         "10.09",
         "2103.8",
         "1.81",
         "13.1",
         "50.5",
         "1.0",
         "10.0",
         "0.0"
        ],
        [
         "0",
         "../output/surgery_free/0_noise_r180.jpg",
         "surgery",
         "43430.0",
         "32.0",
         "1962.0",
         "4.0",
         "5.6",
         "4.5",
         "61.0",
         "483.0",
         "18.6",
         "3.0",
         "3.0",
         "0.0",
         "6.0",
         "19.0",
         "18.0",
         "1.0",
         "38.0",
         "22.0",
         "21.0",
         "1.0",
         "44.0",
         "3.15",
         "-4.5",
         "-7.2",
         "10.09",
         "2103.8",
         "1.81",
         "13.1",
         "50.5",
         "1.0",
         "10.0",
         "0.0"
        ],
        [
         "0",
         "../output/surgery_free/0_blur.jpg",
         "surgery",
         "43430.0",
         "32.0",
         "1962.0",
         "4.0",
         "5.6",
         "4.5",
         "61.0",
         "483.0",
         "18.6",
         "3.0",
         "3.0",
         "0.0",
         "6.0",
         "19.0",
         "18.0",
         "1.0",
         "38.0",
         "22.0",
         "21.0",
         "1.0",
         "44.0",
         "3.15",
         "-4.5",
         "-7.2",
         "10.09",
         "2103.8",
         "1.81",
         "13.1",
         "50.5",
         "1.0",
         "10.0",
         "0.0"
        ]
       ],
       "shape": {
        "columns": 34,
        "rows": 10
       }
      },
      "text/html": [
       "<div>\n",
       "<style scoped>\n",
       "    .dataframe tbody tr th:only-of-type {\n",
       "        vertical-align: middle;\n",
       "    }\n",
       "\n",
       "    .dataframe tbody tr th {\n",
       "        vertical-align: top;\n",
       "    }\n",
       "\n",
       "    .dataframe thead th {\n",
       "        text-align: right;\n",
       "    }\n",
       "</style>\n",
       "<table border=\"1\" class=\"dataframe\">\n",
       "  <thead>\n",
       "    <tr style=\"text-align: right;\">\n",
       "      <th></th>\n",
       "      <th>path</th>\n",
       "      <th>label</th>\n",
       "      <th>WMT</th>\n",
       "      <th>RE</th>\n",
       "      <th>TRE</th>\n",
       "      <th>PUT</th>\n",
       "      <th>PST</th>\n",
       "      <th>PTT</th>\n",
       "      <th>TRAC</th>\n",
       "      <th>LRE</th>\n",
       "      <th>...</th>\n",
       "      <th>LESP</th>\n",
       "      <th>LES-IRP</th>\n",
       "      <th>DL</th>\n",
       "      <th>DCI</th>\n",
       "      <th>LES-length</th>\n",
       "      <th>IBP</th>\n",
       "      <th>PIP</th>\n",
       "      <th>HH</th>\n",
       "      <th>PC</th>\n",
       "      <th>SC</th>\n",
       "    </tr>\n",
       "  </thead>\n",
       "  <tbody>\n",
       "    <tr>\n",
       "      <th>0</th>\n",
       "      <td>../output/surgery_free/0.jpg</td>\n",
       "      <td>surgery</td>\n",
       "      <td>43430.0</td>\n",
       "      <td>32.0</td>\n",
       "      <td>1962.0</td>\n",
       "      <td>4.0</td>\n",
       "      <td>5.6</td>\n",
       "      <td>4.5</td>\n",
       "      <td>61.0</td>\n",
       "      <td>483.0</td>\n",
       "      <td>...</td>\n",
       "      <td>-4.5</td>\n",
       "      <td>-7.2</td>\n",
       "      <td>10.09</td>\n",
       "      <td>2103.8</td>\n",
       "      <td>1.81</td>\n",
       "      <td>13.1</td>\n",
       "      <td>50.5</td>\n",
       "      <td>1.0</td>\n",
       "      <td>10.0</td>\n",
       "      <td>0.0</td>\n",
       "    </tr>\n",
       "    <tr>\n",
       "      <th>0</th>\n",
       "      <td>../output/surgery_free/0_r90.jpg</td>\n",
       "      <td>surgery</td>\n",
       "      <td>43430.0</td>\n",
       "      <td>32.0</td>\n",
       "      <td>1962.0</td>\n",
       "      <td>4.0</td>\n",
       "      <td>5.6</td>\n",
       "      <td>4.5</td>\n",
       "      <td>61.0</td>\n",
       "      <td>483.0</td>\n",
       "      <td>...</td>\n",
       "      <td>-4.5</td>\n",
       "      <td>-7.2</td>\n",
       "      <td>10.09</td>\n",
       "      <td>2103.8</td>\n",
       "      <td>1.81</td>\n",
       "      <td>13.1</td>\n",
       "      <td>50.5</td>\n",
       "      <td>1.0</td>\n",
       "      <td>10.0</td>\n",
       "      <td>0.0</td>\n",
       "    </tr>\n",
       "    <tr>\n",
       "      <th>0</th>\n",
       "      <td>../output/surgery_free/0_r180.jpg</td>\n",
       "      <td>surgery</td>\n",
       "      <td>43430.0</td>\n",
       "      <td>32.0</td>\n",
       "      <td>1962.0</td>\n",
       "      <td>4.0</td>\n",
       "      <td>5.6</td>\n",
       "      <td>4.5</td>\n",
       "      <td>61.0</td>\n",
       "      <td>483.0</td>\n",
       "      <td>...</td>\n",
       "      <td>-4.5</td>\n",
       "      <td>-7.2</td>\n",
       "      <td>10.09</td>\n",
       "      <td>2103.8</td>\n",
       "      <td>1.81</td>\n",
       "      <td>13.1</td>\n",
       "      <td>50.5</td>\n",
       "      <td>1.0</td>\n",
       "      <td>10.0</td>\n",
       "      <td>0.0</td>\n",
       "    </tr>\n",
       "    <tr>\n",
       "      <th>0</th>\n",
       "      <td>../output/surgery_free/0_fli.jpg</td>\n",
       "      <td>surgery</td>\n",
       "      <td>43430.0</td>\n",
       "      <td>32.0</td>\n",
       "      <td>1962.0</td>\n",
       "      <td>4.0</td>\n",
       "      <td>5.6</td>\n",
       "      <td>4.5</td>\n",
       "      <td>61.0</td>\n",
       "      <td>483.0</td>\n",
       "      <td>...</td>\n",
       "      <td>-4.5</td>\n",
       "      <td>-7.2</td>\n",
       "      <td>10.09</td>\n",
       "      <td>2103.8</td>\n",
       "      <td>1.81</td>\n",
       "      <td>13.1</td>\n",
       "      <td>50.5</td>\n",
       "      <td>1.0</td>\n",
       "      <td>10.0</td>\n",
       "      <td>0.0</td>\n",
       "    </tr>\n",
       "    <tr>\n",
       "      <th>0</th>\n",
       "      <td>../output/surgery_free/0_f_r90.jpg</td>\n",
       "      <td>surgery</td>\n",
       "      <td>43430.0</td>\n",
       "      <td>32.0</td>\n",
       "      <td>1962.0</td>\n",
       "      <td>4.0</td>\n",
       "      <td>5.6</td>\n",
       "      <td>4.5</td>\n",
       "      <td>61.0</td>\n",
       "      <td>483.0</td>\n",
       "      <td>...</td>\n",
       "      <td>-4.5</td>\n",
       "      <td>-7.2</td>\n",
       "      <td>10.09</td>\n",
       "      <td>2103.8</td>\n",
       "      <td>1.81</td>\n",
       "      <td>13.1</td>\n",
       "      <td>50.5</td>\n",
       "      <td>1.0</td>\n",
       "      <td>10.0</td>\n",
       "      <td>0.0</td>\n",
       "    </tr>\n",
       "    <tr>\n",
       "      <th>0</th>\n",
       "      <td>../output/surgery_free/0_f_r180.jpg</td>\n",
       "      <td>surgery</td>\n",
       "      <td>43430.0</td>\n",
       "      <td>32.0</td>\n",
       "      <td>1962.0</td>\n",
       "      <td>4.0</td>\n",
       "      <td>5.6</td>\n",
       "      <td>4.5</td>\n",
       "      <td>61.0</td>\n",
       "      <td>483.0</td>\n",
       "      <td>...</td>\n",
       "      <td>-4.5</td>\n",
       "      <td>-7.2</td>\n",
       "      <td>10.09</td>\n",
       "      <td>2103.8</td>\n",
       "      <td>1.81</td>\n",
       "      <td>13.1</td>\n",
       "      <td>50.5</td>\n",
       "      <td>1.0</td>\n",
       "      <td>10.0</td>\n",
       "      <td>0.0</td>\n",
       "    </tr>\n",
       "    <tr>\n",
       "      <th>0</th>\n",
       "      <td>../output/surgery_free/0_noise.jpg</td>\n",
       "      <td>surgery</td>\n",
       "      <td>43430.0</td>\n",
       "      <td>32.0</td>\n",
       "      <td>1962.0</td>\n",
       "      <td>4.0</td>\n",
       "      <td>5.6</td>\n",
       "      <td>4.5</td>\n",
       "      <td>61.0</td>\n",
       "      <td>483.0</td>\n",
       "      <td>...</td>\n",
       "      <td>-4.5</td>\n",
       "      <td>-7.2</td>\n",
       "      <td>10.09</td>\n",
       "      <td>2103.8</td>\n",
       "      <td>1.81</td>\n",
       "      <td>13.1</td>\n",
       "      <td>50.5</td>\n",
       "      <td>1.0</td>\n",
       "      <td>10.0</td>\n",
       "      <td>0.0</td>\n",
       "    </tr>\n",
       "    <tr>\n",
       "      <th>0</th>\n",
       "      <td>../output/surgery_free/0_noise_r90.jpg</td>\n",
       "      <td>surgery</td>\n",
       "      <td>43430.0</td>\n",
       "      <td>32.0</td>\n",
       "      <td>1962.0</td>\n",
       "      <td>4.0</td>\n",
       "      <td>5.6</td>\n",
       "      <td>4.5</td>\n",
       "      <td>61.0</td>\n",
       "      <td>483.0</td>\n",
       "      <td>...</td>\n",
       "      <td>-4.5</td>\n",
       "      <td>-7.2</td>\n",
       "      <td>10.09</td>\n",
       "      <td>2103.8</td>\n",
       "      <td>1.81</td>\n",
       "      <td>13.1</td>\n",
       "      <td>50.5</td>\n",
       "      <td>1.0</td>\n",
       "      <td>10.0</td>\n",
       "      <td>0.0</td>\n",
       "    </tr>\n",
       "    <tr>\n",
       "      <th>0</th>\n",
       "      <td>../output/surgery_free/0_noise_r180.jpg</td>\n",
       "      <td>surgery</td>\n",
       "      <td>43430.0</td>\n",
       "      <td>32.0</td>\n",
       "      <td>1962.0</td>\n",
       "      <td>4.0</td>\n",
       "      <td>5.6</td>\n",
       "      <td>4.5</td>\n",
       "      <td>61.0</td>\n",
       "      <td>483.0</td>\n",
       "      <td>...</td>\n",
       "      <td>-4.5</td>\n",
       "      <td>-7.2</td>\n",
       "      <td>10.09</td>\n",
       "      <td>2103.8</td>\n",
       "      <td>1.81</td>\n",
       "      <td>13.1</td>\n",
       "      <td>50.5</td>\n",
       "      <td>1.0</td>\n",
       "      <td>10.0</td>\n",
       "      <td>0.0</td>\n",
       "    </tr>\n",
       "    <tr>\n",
       "      <th>0</th>\n",
       "      <td>../output/surgery_free/0_blur.jpg</td>\n",
       "      <td>surgery</td>\n",
       "      <td>43430.0</td>\n",
       "      <td>32.0</td>\n",
       "      <td>1962.0</td>\n",
       "      <td>4.0</td>\n",
       "      <td>5.6</td>\n",
       "      <td>4.5</td>\n",
       "      <td>61.0</td>\n",
       "      <td>483.0</td>\n",
       "      <td>...</td>\n",
       "      <td>-4.5</td>\n",
       "      <td>-7.2</td>\n",
       "      <td>10.09</td>\n",
       "      <td>2103.8</td>\n",
       "      <td>1.81</td>\n",
       "      <td>13.1</td>\n",
       "      <td>50.5</td>\n",
       "      <td>1.0</td>\n",
       "      <td>10.0</td>\n",
       "      <td>0.0</td>\n",
       "    </tr>\n",
       "  </tbody>\n",
       "</table>\n",
       "<p>10 rows × 34 columns</p>\n",
       "</div>"
      ],
      "text/plain": [
       "                                      path    label      WMT    RE     TRE  \\\n",
       "0             ../output/surgery_free/0.jpg  surgery  43430.0  32.0  1962.0   \n",
       "0         ../output/surgery_free/0_r90.jpg  surgery  43430.0  32.0  1962.0   \n",
       "0        ../output/surgery_free/0_r180.jpg  surgery  43430.0  32.0  1962.0   \n",
       "0         ../output/surgery_free/0_fli.jpg  surgery  43430.0  32.0  1962.0   \n",
       "0       ../output/surgery_free/0_f_r90.jpg  surgery  43430.0  32.0  1962.0   \n",
       "0      ../output/surgery_free/0_f_r180.jpg  surgery  43430.0  32.0  1962.0   \n",
       "0       ../output/surgery_free/0_noise.jpg  surgery  43430.0  32.0  1962.0   \n",
       "0   ../output/surgery_free/0_noise_r90.jpg  surgery  43430.0  32.0  1962.0   \n",
       "0  ../output/surgery_free/0_noise_r180.jpg  surgery  43430.0  32.0  1962.0   \n",
       "0        ../output/surgery_free/0_blur.jpg  surgery  43430.0  32.0  1962.0   \n",
       "\n",
       "   PUT  PST  PTT  TRAC    LRE  ...  LESP  LES-IRP     DL     DCI  LES-length  \\\n",
       "0  4.0  5.6  4.5  61.0  483.0  ...  -4.5     -7.2  10.09  2103.8        1.81   \n",
       "0  4.0  5.6  4.5  61.0  483.0  ...  -4.5     -7.2  10.09  2103.8        1.81   \n",
       "0  4.0  5.6  4.5  61.0  483.0  ...  -4.5     -7.2  10.09  2103.8        1.81   \n",
       "0  4.0  5.6  4.5  61.0  483.0  ...  -4.5     -7.2  10.09  2103.8        1.81   \n",
       "0  4.0  5.6  4.5  61.0  483.0  ...  -4.5     -7.2  10.09  2103.8        1.81   \n",
       "0  4.0  5.6  4.5  61.0  483.0  ...  -4.5     -7.2  10.09  2103.8        1.81   \n",
       "0  4.0  5.6  4.5  61.0  483.0  ...  -4.5     -7.2  10.09  2103.8        1.81   \n",
       "0  4.0  5.6  4.5  61.0  483.0  ...  -4.5     -7.2  10.09  2103.8        1.81   \n",
       "0  4.0  5.6  4.5  61.0  483.0  ...  -4.5     -7.2  10.09  2103.8        1.81   \n",
       "0  4.0  5.6  4.5  61.0  483.0  ...  -4.5     -7.2  10.09  2103.8        1.81   \n",
       "\n",
       "    IBP   PIP   HH    PC   SC  \n",
       "0  13.1  50.5  1.0  10.0  0.0  \n",
       "0  13.1  50.5  1.0  10.0  0.0  \n",
       "0  13.1  50.5  1.0  10.0  0.0  \n",
       "0  13.1  50.5  1.0  10.0  0.0  \n",
       "0  13.1  50.5  1.0  10.0  0.0  \n",
       "0  13.1  50.5  1.0  10.0  0.0  \n",
       "0  13.1  50.5  1.0  10.0  0.0  \n",
       "0  13.1  50.5  1.0  10.0  0.0  \n",
       "0  13.1  50.5  1.0  10.0  0.0  \n",
       "0  13.1  50.5  1.0  10.0  0.0  \n",
       "\n",
       "[10 rows x 34 columns]"
      ]
     },
     "execution_count": 30,
     "metadata": {},
     "output_type": "execute_result"
    }
   ],
   "source": [
    "temp.head(10)"
   ]
  },
  {
   "cell_type": "code",
   "execution_count": 2,
   "metadata": {},
   "outputs": [
    {
     "data": {
      "text/plain": [
       "[1, 0, 1, 1]"
      ]
     },
     "execution_count": 2,
     "metadata": {},
     "output_type": "execute_result"
    }
   ],
   "source": [
    "x = [1,0,1,1]\n",
    "y = list()\n",
    "y+=x\n",
    "y"
   ]
  },
  {
   "cell_type": "code",
   "execution_count": 35,
   "metadata": {},
   "outputs": [
    {
     "data": {
      "text/plain": [
       "['../output/surgery_free/0_r90.jpg',\n",
       " 'surgery',\n",
       " WMT           43430.0\n",
       " RE               32.0\n",
       " TRE            1962.0\n",
       " PUT               4.0\n",
       " PST               5.6\n",
       " PTT               4.5\n",
       " TRAC             61.0\n",
       " LRE             483.0\n",
       " DMS              18.6\n",
       " RE-L-Ac           3.0\n",
       " RE-L-Wa           3.0\n",
       " RE-L-Al           0.0\n",
       " RE-L-Ak           6.0\n",
       " RE-M-Ac          19.0\n",
       " RE-M-Wa          18.0\n",
       " RE-M-Al           1.0\n",
       " RE-M-Ak          38.0\n",
       " RE-T-Ac          22.0\n",
       " RE-T-Wa          21.0\n",
       " RE-T-Al           1.0\n",
       " RE-T-Ak          44.0\n",
       " CFV              3.15\n",
       " LESP             -4.5\n",
       " LES-IRP          -7.2\n",
       " DL              10.09\n",
       " DCI            2103.8\n",
       " LES-length       1.81\n",
       " IBP              13.1\n",
       " PIP              50.5\n",
       " HH                1.0\n",
       " PC               10.0\n",
       " SC                0.0\n",
       " Name: 0, dtype: object]"
      ]
     },
     "execution_count": 35,
     "metadata": {},
     "output_type": "execute_result"
    }
   ],
   "source": [
    "trau[1]"
   ]
  },
  {
   "cell_type": "code",
   "execution_count": 33,
   "metadata": {},
   "outputs": [
    {
     "ename": "ValueError",
     "evalue": "2 columns passed, passed data had 3 columns",
     "output_type": "error",
     "traceback": [
      "\u001b[0;31m---------------------------------------------------------------------------\u001b[0m",
      "\u001b[0;31mAssertionError\u001b[0m                            Traceback (most recent call last)",
      "File \u001b[0;32m/usr/local/anaconda3/envs/AICore/lib/python3.12/site-packages/pandas/core/internals/construction.py:939\u001b[0m, in \u001b[0;36m_finalize_columns_and_data\u001b[0;34m(content, columns, dtype)\u001b[0m\n\u001b[1;32m    938\u001b[0m \u001b[38;5;28;01mtry\u001b[39;00m:\n\u001b[0;32m--> 939\u001b[0m     columns \u001b[38;5;241m=\u001b[39m \u001b[43m_validate_or_indexify_columns\u001b[49m\u001b[43m(\u001b[49m\u001b[43mcontents\u001b[49m\u001b[43m,\u001b[49m\u001b[43m \u001b[49m\u001b[43mcolumns\u001b[49m\u001b[43m)\u001b[49m\n\u001b[1;32m    940\u001b[0m \u001b[38;5;28;01mexcept\u001b[39;00m \u001b[38;5;167;01mAssertionError\u001b[39;00m \u001b[38;5;28;01mas\u001b[39;00m err:\n\u001b[1;32m    941\u001b[0m     \u001b[38;5;66;03m# GH#26429 do not raise user-facing AssertionError\u001b[39;00m\n",
      "File \u001b[0;32m/usr/local/anaconda3/envs/AICore/lib/python3.12/site-packages/pandas/core/internals/construction.py:986\u001b[0m, in \u001b[0;36m_validate_or_indexify_columns\u001b[0;34m(content, columns)\u001b[0m\n\u001b[1;32m    984\u001b[0m \u001b[38;5;28;01mif\u001b[39;00m \u001b[38;5;129;01mnot\u001b[39;00m is_mi_list \u001b[38;5;129;01mand\u001b[39;00m \u001b[38;5;28mlen\u001b[39m(columns) \u001b[38;5;241m!=\u001b[39m \u001b[38;5;28mlen\u001b[39m(content):  \u001b[38;5;66;03m# pragma: no cover\u001b[39;00m\n\u001b[1;32m    985\u001b[0m     \u001b[38;5;66;03m# caller's responsibility to check for this...\u001b[39;00m\n\u001b[0;32m--> 986\u001b[0m     \u001b[38;5;28;01mraise\u001b[39;00m \u001b[38;5;167;01mAssertionError\u001b[39;00m(\n\u001b[1;32m    987\u001b[0m         \u001b[38;5;124mf\u001b[39m\u001b[38;5;124m\"\u001b[39m\u001b[38;5;132;01m{\u001b[39;00m\u001b[38;5;28mlen\u001b[39m(columns)\u001b[38;5;132;01m}\u001b[39;00m\u001b[38;5;124m columns passed, passed data had \u001b[39m\u001b[38;5;124m\"\u001b[39m\n\u001b[1;32m    988\u001b[0m         \u001b[38;5;124mf\u001b[39m\u001b[38;5;124m\"\u001b[39m\u001b[38;5;132;01m{\u001b[39;00m\u001b[38;5;28mlen\u001b[39m(content)\u001b[38;5;132;01m}\u001b[39;00m\u001b[38;5;124m columns\u001b[39m\u001b[38;5;124m\"\u001b[39m\n\u001b[1;32m    989\u001b[0m     )\n\u001b[1;32m    990\u001b[0m \u001b[38;5;28;01mif\u001b[39;00m is_mi_list:\n\u001b[1;32m    991\u001b[0m     \u001b[38;5;66;03m# check if nested list column, length of each sub-list should be equal\u001b[39;00m\n",
      "\u001b[0;31mAssertionError\u001b[0m: 2 columns passed, passed data had 3 columns",
      "\nThe above exception was the direct cause of the following exception:\n",
      "\u001b[0;31mValueError\u001b[0m                                Traceback (most recent call last)",
      "Cell \u001b[0;32mIn[33], line 1\u001b[0m\n\u001b[0;32m----> 1\u001b[0m traudf \u001b[38;5;241m=\u001b[39m \u001b[43mpd\u001b[49m\u001b[38;5;241;43m.\u001b[39;49m\u001b[43mDataFrame\u001b[49m\u001b[43m(\u001b[49m\u001b[43mtrau\u001b[49m\u001b[43m,\u001b[49m\u001b[43mcolumns\u001b[49m\u001b[38;5;241;43m=\u001b[39;49m\u001b[43m[\u001b[49m\u001b[38;5;124;43m'\u001b[39;49m\u001b[38;5;124;43mpath\u001b[39;49m\u001b[38;5;124;43m'\u001b[39;49m\u001b[43m,\u001b[49m\u001b[38;5;124;43m'\u001b[39;49m\u001b[38;5;124;43mlabel\u001b[39;49m\u001b[38;5;124;43m'\u001b[39;49m\u001b[43m]\u001b[49m\u001b[43m)\u001b[49m\n\u001b[1;32m      2\u001b[0m trdf \u001b[38;5;241m=\u001b[39m  pd\u001b[38;5;241m.\u001b[39mDataFrame(tr,columns\u001b[38;5;241m=\u001b[39m[\u001b[38;5;124m'\u001b[39m\u001b[38;5;124mpath\u001b[39m\u001b[38;5;124m'\u001b[39m,\u001b[38;5;124m'\u001b[39m\u001b[38;5;124mlabel\u001b[39m\u001b[38;5;124m'\u001b[39m])\n\u001b[1;32m      3\u001b[0m \u001b[38;5;66;03m# traudf = pd.DataFrame(trau,columns=trdf.columns)\u001b[39;00m\n\u001b[1;32m      4\u001b[0m \u001b[38;5;66;03m# trdf =  pd.DataFrame(tr,columns=trdf.columns)\u001b[39;00m\n",
      "File \u001b[0;32m/usr/local/anaconda3/envs/AICore/lib/python3.12/site-packages/pandas/core/frame.py:851\u001b[0m, in \u001b[0;36mDataFrame.__init__\u001b[0;34m(self, data, index, columns, dtype, copy)\u001b[0m\n\u001b[1;32m    849\u001b[0m     \u001b[38;5;28;01mif\u001b[39;00m columns \u001b[38;5;129;01mis\u001b[39;00m \u001b[38;5;129;01mnot\u001b[39;00m \u001b[38;5;28;01mNone\u001b[39;00m:\n\u001b[1;32m    850\u001b[0m         columns \u001b[38;5;241m=\u001b[39m ensure_index(columns)\n\u001b[0;32m--> 851\u001b[0m     arrays, columns, index \u001b[38;5;241m=\u001b[39m \u001b[43mnested_data_to_arrays\u001b[49m\u001b[43m(\u001b[49m\n\u001b[1;32m    852\u001b[0m \u001b[43m        \u001b[49m\u001b[38;5;66;43;03m# error: Argument 3 to \"nested_data_to_arrays\" has incompatible\u001b[39;49;00m\n\u001b[1;32m    853\u001b[0m \u001b[43m        \u001b[49m\u001b[38;5;66;43;03m# type \"Optional[Collection[Any]]\"; expected \"Optional[Index]\"\u001b[39;49;00m\n\u001b[1;32m    854\u001b[0m \u001b[43m        \u001b[49m\u001b[43mdata\u001b[49m\u001b[43m,\u001b[49m\n\u001b[1;32m    855\u001b[0m \u001b[43m        \u001b[49m\u001b[43mcolumns\u001b[49m\u001b[43m,\u001b[49m\n\u001b[1;32m    856\u001b[0m \u001b[43m        \u001b[49m\u001b[43mindex\u001b[49m\u001b[43m,\u001b[49m\u001b[43m  \u001b[49m\u001b[38;5;66;43;03m# type: ignore[arg-type]\u001b[39;49;00m\n\u001b[1;32m    857\u001b[0m \u001b[43m        \u001b[49m\u001b[43mdtype\u001b[49m\u001b[43m,\u001b[49m\n\u001b[1;32m    858\u001b[0m \u001b[43m    \u001b[49m\u001b[43m)\u001b[49m\n\u001b[1;32m    859\u001b[0m     mgr \u001b[38;5;241m=\u001b[39m arrays_to_mgr(\n\u001b[1;32m    860\u001b[0m         arrays,\n\u001b[1;32m    861\u001b[0m         columns,\n\u001b[0;32m   (...)\u001b[0m\n\u001b[1;32m    864\u001b[0m         typ\u001b[38;5;241m=\u001b[39mmanager,\n\u001b[1;32m    865\u001b[0m     )\n\u001b[1;32m    866\u001b[0m \u001b[38;5;28;01melse\u001b[39;00m:\n",
      "File \u001b[0;32m/usr/local/anaconda3/envs/AICore/lib/python3.12/site-packages/pandas/core/internals/construction.py:520\u001b[0m, in \u001b[0;36mnested_data_to_arrays\u001b[0;34m(data, columns, index, dtype)\u001b[0m\n\u001b[1;32m    517\u001b[0m \u001b[38;5;28;01mif\u001b[39;00m is_named_tuple(data[\u001b[38;5;241m0\u001b[39m]) \u001b[38;5;129;01mand\u001b[39;00m columns \u001b[38;5;129;01mis\u001b[39;00m \u001b[38;5;28;01mNone\u001b[39;00m:\n\u001b[1;32m    518\u001b[0m     columns \u001b[38;5;241m=\u001b[39m ensure_index(data[\u001b[38;5;241m0\u001b[39m]\u001b[38;5;241m.\u001b[39m_fields)\n\u001b[0;32m--> 520\u001b[0m arrays, columns \u001b[38;5;241m=\u001b[39m \u001b[43mto_arrays\u001b[49m\u001b[43m(\u001b[49m\u001b[43mdata\u001b[49m\u001b[43m,\u001b[49m\u001b[43m \u001b[49m\u001b[43mcolumns\u001b[49m\u001b[43m,\u001b[49m\u001b[43m \u001b[49m\u001b[43mdtype\u001b[49m\u001b[38;5;241;43m=\u001b[39;49m\u001b[43mdtype\u001b[49m\u001b[43m)\u001b[49m\n\u001b[1;32m    521\u001b[0m columns \u001b[38;5;241m=\u001b[39m ensure_index(columns)\n\u001b[1;32m    523\u001b[0m \u001b[38;5;28;01mif\u001b[39;00m index \u001b[38;5;129;01mis\u001b[39;00m \u001b[38;5;28;01mNone\u001b[39;00m:\n",
      "File \u001b[0;32m/usr/local/anaconda3/envs/AICore/lib/python3.12/site-packages/pandas/core/internals/construction.py:845\u001b[0m, in \u001b[0;36mto_arrays\u001b[0;34m(data, columns, dtype)\u001b[0m\n\u001b[1;32m    842\u001b[0m     data \u001b[38;5;241m=\u001b[39m [\u001b[38;5;28mtuple\u001b[39m(x) \u001b[38;5;28;01mfor\u001b[39;00m x \u001b[38;5;129;01min\u001b[39;00m data]\n\u001b[1;32m    843\u001b[0m     arr \u001b[38;5;241m=\u001b[39m _list_to_arrays(data)\n\u001b[0;32m--> 845\u001b[0m content, columns \u001b[38;5;241m=\u001b[39m \u001b[43m_finalize_columns_and_data\u001b[49m\u001b[43m(\u001b[49m\u001b[43marr\u001b[49m\u001b[43m,\u001b[49m\u001b[43m \u001b[49m\u001b[43mcolumns\u001b[49m\u001b[43m,\u001b[49m\u001b[43m \u001b[49m\u001b[43mdtype\u001b[49m\u001b[43m)\u001b[49m\n\u001b[1;32m    846\u001b[0m \u001b[38;5;28;01mreturn\u001b[39;00m content, columns\n",
      "File \u001b[0;32m/usr/local/anaconda3/envs/AICore/lib/python3.12/site-packages/pandas/core/internals/construction.py:942\u001b[0m, in \u001b[0;36m_finalize_columns_and_data\u001b[0;34m(content, columns, dtype)\u001b[0m\n\u001b[1;32m    939\u001b[0m     columns \u001b[38;5;241m=\u001b[39m _validate_or_indexify_columns(contents, columns)\n\u001b[1;32m    940\u001b[0m \u001b[38;5;28;01mexcept\u001b[39;00m \u001b[38;5;167;01mAssertionError\u001b[39;00m \u001b[38;5;28;01mas\u001b[39;00m err:\n\u001b[1;32m    941\u001b[0m     \u001b[38;5;66;03m# GH#26429 do not raise user-facing AssertionError\u001b[39;00m\n\u001b[0;32m--> 942\u001b[0m     \u001b[38;5;28;01mraise\u001b[39;00m \u001b[38;5;167;01mValueError\u001b[39;00m(err) \u001b[38;5;28;01mfrom\u001b[39;00m \u001b[38;5;21;01merr\u001b[39;00m\n\u001b[1;32m    944\u001b[0m \u001b[38;5;28;01mif\u001b[39;00m \u001b[38;5;28mlen\u001b[39m(contents) \u001b[38;5;129;01mand\u001b[39;00m contents[\u001b[38;5;241m0\u001b[39m]\u001b[38;5;241m.\u001b[39mdtype \u001b[38;5;241m==\u001b[39m np\u001b[38;5;241m.\u001b[39mobject_:\n\u001b[1;32m    945\u001b[0m     contents \u001b[38;5;241m=\u001b[39m convert_object_array(contents, dtype\u001b[38;5;241m=\u001b[39mdtype)\n",
      "\u001b[0;31mValueError\u001b[0m: 2 columns passed, passed data had 3 columns"
     ]
    }
   ],
   "source": [
    "traudf = pd.DataFrame(trau,columns=['path','label'])\n",
    "trdf =  pd.DataFrame(tr,columns=['path','label'])\n",
    "# traudf = pd.DataFrame(trau,columns=trdf.columns)\n",
    "# trdf =  pd.DataFrame(tr,columns=trdf.columns)"
   ]
  },
  {
   "cell_type": "code",
   "execution_count": 31,
   "metadata": {},
   "outputs": [
    {
     "name": "stderr",
     "output_type": "stream",
     "text": [
      "/tmp/ipykernel_321494/4209465114.py:2: FutureWarning: Downcasting behavior in `replace` is deprecated and will be removed in a future version. To retain the old behavior, explicitly call `result.infer_objects(copy=False)`. To opt-in to the future behavior, set `pd.set_option('future.no_silent_downcasting', True)`\n",
      "  traudf.replace('surgery_free',0,inplace=True)\n"
     ]
    }
   ],
   "source": [
    "traudf.replace('surgery',1,inplace=True)\n",
    "traudf.replace('surgery_free',0,inplace=True)\n",
    "trdf.replace('surgery',1,inplace=True)\n",
    "trdf.replace('surgery_free',0,inplace=True)"
   ]
  },
  {
   "cell_type": "code",
   "execution_count": 32,
   "metadata": {},
   "outputs": [
    {
     "data": {
      "text/plain": [
       "(10304, 34)"
      ]
     },
     "execution_count": 32,
     "metadata": {},
     "output_type": "execute_result"
    }
   ],
   "source": [
    "traudf.shape"
   ]
  },
  {
   "cell_type": "code",
   "execution_count": 144,
   "metadata": {},
   "outputs": [],
   "source": [
    "# traudf.to_csv('./train.csv')\n",
    "#数据增强之后的所有数据   一张图变14张\n",
    "traudf.to_csv('../output/temp_data/all.csv')"
   ]
  },
  {
   "cell_type": "code",
   "execution_count": 8,
   "metadata": {},
   "outputs": [],
   "source": [
    "traudf = pd.read_csv('../output/temp_data/all.csv')"
   ]
  },
  {
   "cell_type": "code",
   "execution_count": 36,
   "metadata": {},
   "outputs": [],
   "source": [
    "traudf = temp"
   ]
  },
  {
   "cell_type": "code",
   "execution_count": 39,
   "metadata": {},
   "outputs": [
    {
     "name": "stderr",
     "output_type": "stream",
     "text": [
      "/tmp/ipykernel_321494/2738966759.py:2: FutureWarning: Downcasting behavior in `replace` is deprecated and will be removed in a future version. To retain the old behavior, explicitly call `result.infer_objects(copy=False)`. To opt-in to the future behavior, set `pd.set_option('future.no_silent_downcasting', True)`\n",
      "  traudf.replace('surgery_free',0,inplace=True)\n"
     ]
    }
   ],
   "source": [
    "traudf.replace('surgery',1,inplace=True)\n",
    "traudf.replace('surgery_free',0,inplace=True)"
   ]
  },
  {
   "cell_type": "code",
   "execution_count": 40,
   "metadata": {},
   "outputs": [],
   "source": [
    "traudf_shuffle = traudf.sample(frac=1).reset_index(drop=True)"
   ]
  },
  {
   "cell_type": "code",
   "execution_count": 41,
   "metadata": {},
   "outputs": [],
   "source": [
    "traudf_shuffle.to_csv('../output/temp_data/all_shuffle.csv')"
   ]
  },
  {
   "cell_type": "code",
   "execution_count": 66,
   "metadata": {},
   "outputs": [],
   "source": [
    "traudf_shuffle = pd.read_csv('../output/temp_data/all_shuffle.csv')"
   ]
  },
  {
   "cell_type": "code",
   "execution_count": 67,
   "metadata": {},
   "outputs": [],
   "source": [
    "traudf_shuffle = traudf_shuffle.sample(frac=1).reset_index(drop=True)"
   ]
  },
  {
   "cell_type": "code",
   "execution_count": 68,
   "metadata": {},
   "outputs": [],
   "source": [
    "train_len = int(len(traudf_shuffle)*0.7)\n",
    "traudf_shuffle.iloc[:train_len,:].to_csv('../output/temp_data/train_two.csv',index=False)\n",
    "traudf_shuffle.iloc[train_len:,:].to_csv('../output/temp_data/test_two.csv',index=False)"
   ]
  },
  {
   "cell_type": "code",
   "execution_count": 1,
   "metadata": {},
   "outputs": [
    {
     "ename": "NameError",
     "evalue": "name 'train_len' is not defined",
     "output_type": "error",
     "traceback": [
      "\u001b[0;31m---------------------------------------------------------------------------\u001b[0m",
      "\u001b[0;31mNameError\u001b[0m                                 Traceback (most recent call last)",
      "Cell \u001b[0;32mIn[1], line 1\u001b[0m\n\u001b[0;32m----> 1\u001b[0m \u001b[43mtrain_len\u001b[49m\n",
      "\u001b[0;31mNameError\u001b[0m: name 'train_len' is not defined"
     ]
    }
   ],
   "source": [
    "train_len"
   ]
  },
  {
   "cell_type": "code",
   "execution_count": 43,
   "metadata": {},
   "outputs": [],
   "source": [
    "tsau=[]\n",
    "ts = []\n",
    "\n",
    "file_dir = './Gerd_C_LA/'\n",
    "\n",
    "for i in range(len(tsdf)):\n",
    "    label_tr = tsdf.loc[i,'label']\n",
    "    imgpath = tsdf.loc[i,'path']\n",
    "    if label_tr>=1:\n",
    "        label_tr = 1\n",
    "        label_name = 'surgery'\n",
    "    else:\n",
    "        label_name = 'surgery_free'\n",
    "    img = cv2.imread(imgpath)\n",
    "    path = file_dir+'test/'+label_name+\"/\"\n",
    "    if not os.path.exists(path+imgpath.split('/')[3]):\n",
    "        os.makedirs(path+imgpath.split('/')[3])\n",
    "    cv2.imwrite(path+imgpath.split('/')[3]+'/'+str(i)+'.jpg',img)\n",
    "    tsau.append([path+imgpath.split('/')[3]+'/'+str(i)+'.jpg',label_name])\n",
    "    ts.append([path+imgpath.split('/')[3]+'/'+str(i)+'.jpg',label_name])\n",
    "\n",
    "    rotated_90 = rotate(img, 90)\n",
    "    cv2.imwrite(path+imgpath.split('/')[3]+'/'+str(i)+'_r90.jpg', rotated_90)\n",
    "    tsau.append([path+imgpath.split('/')[3]+'/'+str(i)+'_r90.jpg',label_name])\n",
    "\n",
    "    rotated_180 = rotate(img, 180)\n",
    "    cv2.imwrite(path+imgpath.split('/')[3]+'/'+str(i)+'_r180.jpg', rotated_180)\n",
    "    tsau.append([path+imgpath.split('/')[3]+'/'+str(i)+'_r180.jpg',label_name])\n",
    "\n",
    "    flipped_img = flip(img)\n",
    "    cv2.imwrite(path+imgpath.split('/')[3]+'/'+str(i)+ '_fli.jpg', flipped_img)\n",
    "    tsau.append([path+imgpath.split('/')[3]+'/'+str(i)+'_fli.jpg',label_name])\n",
    "\n",
    "    img_gauss = addGaussianNoise(img, 0.3)\n",
    "    cv2.imwrite(path+imgpath.split('/')[3]+'/'+str(i)+ '_noise.jpg',img_gauss)\n",
    "    tsau.append([path+imgpath.split('/')[3]+'/'+str(i)+'_noise.jpg',label_name])\n",
    "\n",
    "    blur = cv2.GaussianBlur(img, (3, 3), 0)\n",
    "    cv2.imwrite(path+imgpath.split('/')[3]+'/'+str(i)+ '_blur.jpg',blur)\n",
    "    tsau.append([path+imgpath.split('/')[3]+'/'+str(i)+'_blur.jpg',label_name])\n",
    "\n",
    "    rs = resizing(img)\n",
    "    cv2.imwrite(path+imgpath.split('/')[3]+'/'+str(i)+ '_resizing.jpg',rs)\n",
    "    tsau.append([path+imgpath.split('/')[3]+'/'+str(i)+'_resizing.jpg',label_name])\n",
    "\n",
    "    if i//len(tsdf) ==10:\n",
    "        print(i//len(tsdf))\n",
    "\n",
    "\n"
   ]
  },
  {
   "cell_type": "code",
   "execution_count": 44,
   "metadata": {},
   "outputs": [],
   "source": [
    "tsaudf = pd.DataFrame(tsau,columns=['path','label'])\n",
    "tsdf =  pd.DataFrame(ts,columns=['path','label'])"
   ]
  },
  {
   "cell_type": "code",
   "execution_count": 45,
   "metadata": {},
   "outputs": [
    {
     "name": "stderr",
     "output_type": "stream",
     "text": [
      "/var/folders/5s/fqt4dqvs3ns58bhm_rbgkthw0000gn/T/ipykernel_43468/81601162.py:2: FutureWarning: Downcasting behavior in `replace` is deprecated and will be removed in a future version. To retain the old behavior, explicitly call `result.infer_objects(copy=False)`. To opt-in to the future behavior, set `pd.set_option('future.no_silent_downcasting', True)`\n",
      "  tsaudf.replace('surgery_free',0,inplace=True)\n",
      "/var/folders/5s/fqt4dqvs3ns58bhm_rbgkthw0000gn/T/ipykernel_43468/81601162.py:4: FutureWarning: Downcasting behavior in `replace` is deprecated and will be removed in a future version. To retain the old behavior, explicitly call `result.infer_objects(copy=False)`. To opt-in to the future behavior, set `pd.set_option('future.no_silent_downcasting', True)`\n",
      "  tsdf.replace('surgery_free',0,inplace=True)\n"
     ]
    }
   ],
   "source": [
    "tsaudf.replace('surgery',1,inplace=True)\n",
    "tsaudf.replace('surgery_free',0,inplace=True)\n",
    "tsdf.replace('surgery',1,inplace=True)\n",
    "tsdf.replace('surgery_free',0,inplace=True)"
   ]
  },
  {
   "cell_type": "code",
   "execution_count": null,
   "metadata": {},
   "outputs": [],
   "source": [
    "# tsaudf.to_csv('./Gerd_C_LA_test_au.csv')\n",
    "tsdf.to_csv('./test.csv')"
   ]
  },
  {
   "cell_type": "code",
   "execution_count": 7,
   "metadata": {},
   "outputs": [
    {
     "name": "stdout",
     "output_type": "stream",
     "text": [
      "OpenCV(4.10.0) /croot/opencv-suite_1722029125240/work/modules/imgcodecs/src/loadsave.cpp:798: error: (-215:Assertion failed) !_img.empty() in function 'imwrite'\n",
      "\n"
     ]
    },
    {
     "name": "stderr",
     "output_type": "stream",
     "text": [
      "[ WARN:0@278.644] global loadsave.cpp:241 findDecoder imread_('./胃镜数据_术前/其他手术/李丽波 A II/术前/食管/4.bmp'): can't open/read file: check file path/integrity\n"
     ]
    },
    {
     "name": "stdout",
     "output_type": "stream",
     "text": [
      "OpenCV(4.10.0) /croot/opencv-suite_1722029125240/work/modules/imgcodecs/src/loadsave.cpp:798: error: (-215:Assertion failed) !_img.empty() in function 'imwrite'\n",
      "\n"
     ]
    },
    {
     "name": "stderr",
     "output_type": "stream",
     "text": [
      "[ WARN:0@284.457] global loadsave.cpp:241 findDecoder imread_('./胃镜数据_术前/其他手术/罗靖尧 A IV/术前/image/食管/9.bmp'): can't open/read file: check file path/integrity\n",
      "[ WARN:0@287.056] global loadsave.cpp:241 findDecoder imread_('./胃镜数据_术前/其他手术/罗靖尧 A IV/术前/image/食管/3.bmp'): can't open/read file: check file path/integrity\n"
     ]
    },
    {
     "name": "stdout",
     "output_type": "stream",
     "text": [
      "OpenCV(4.10.0) /croot/opencv-suite_1722029125240/work/modules/imgcodecs/src/loadsave.cpp:798: error: (-215:Assertion failed) !_img.empty() in function 'imwrite'\n",
      "\n"
     ]
    },
    {
     "name": "stderr",
     "output_type": "stream",
     "text": [
      "[ WARN:0@293.651] global loadsave.cpp:241 findDecoder imread_('./胃镜数据_术前/其他手术/罗靖尧 A IV/术前/image/食管/8.bmp'): can't open/read file: check file path/integrity\n"
     ]
    },
    {
     "name": "stdout",
     "output_type": "stream",
     "text": [
      "OpenCV(4.10.0) /croot/opencv-suite_1722029125240/work/modules/imgcodecs/src/loadsave.cpp:798: error: (-215:Assertion failed) !_img.empty() in function 'imwrite'\n",
      "\n"
     ]
    },
    {
     "name": "stderr",
     "output_type": "stream",
     "text": [
      "[ WARN:0@298.393] global loadsave.cpp:241 findDecoder imread_('./胃镜数据_术前/其他手术/李丽波 A II/术前/食管/8.bmp'): can't open/read file: check file path/integrity\n"
     ]
    },
    {
     "name": "stdout",
     "output_type": "stream",
     "text": [
      "OpenCV(4.10.0) /croot/opencv-suite_1722029125240/work/modules/imgcodecs/src/loadsave.cpp:798: error: (-215:Assertion failed) !_img.empty() in function 'imwrite'\n",
      "\n"
     ]
    },
    {
     "name": "stderr",
     "output_type": "stream",
     "text": [
      "[ WARN:0@305.424] global loadsave.cpp:241 findDecoder imread_('./胃镜数据_术前/其他手术/罗靖尧 A IV/术前/image/食管/4.bmp'): can't open/read file: check file path/integrity\n"
     ]
    },
    {
     "name": "stdout",
     "output_type": "stream",
     "text": [
      "OpenCV(4.10.0) /croot/opencv-suite_1722029125240/work/modules/imgcodecs/src/loadsave.cpp:798: error: (-215:Assertion failed) !_img.empty() in function 'imwrite'\n",
      "\n",
      "OpenCV(4.10.0) /croot/opencv-suite_1722029125240/work/modules/imgcodecs/src/loadsave.cpp:798: error: (-215:Assertion failed) !_img.empty() in function 'imwrite'\n",
      "\n"
     ]
    },
    {
     "name": "stderr",
     "output_type": "stream",
     "text": [
      "[ WARN:0@306.996] global loadsave.cpp:241 findDecoder imread_('./胃镜数据_术前/其他手术/罗靖尧 A IV/术前/image/食管/7.bmp'): can't open/read file: check file path/integrity\n",
      "[ WARN:0@308.954] global loadsave.cpp:241 findDecoder imread_('./胃镜数据_术前/其他手术/李丽波 A II/术前/食管/5.bmp'): can't open/read file: check file path/integrity\n"
     ]
    },
    {
     "name": "stdout",
     "output_type": "stream",
     "text": [
      "OpenCV(4.10.0) /croot/opencv-suite_1722029125240/work/modules/imgcodecs/src/loadsave.cpp:798: error: (-215:Assertion failed) !_img.empty() in function 'imwrite'\n",
      "\n"
     ]
    },
    {
     "name": "stderr",
     "output_type": "stream",
     "text": [
      "[ WARN:0@321.816] global loadsave.cpp:241 findDecoder imread_('./胃镜数据_术前/其他手术/李丽波 A II/术前/食管/2.bmp'): can't open/read file: check file path/integrity\n"
     ]
    },
    {
     "name": "stdout",
     "output_type": "stream",
     "text": [
      "OpenCV(4.10.0) /croot/opencv-suite_1722029125240/work/modules/imgcodecs/src/loadsave.cpp:798: error: (-215:Assertion failed) !_img.empty() in function 'imwrite'\n",
      "\n"
     ]
    }
   ],
   "source": [
    "tr = []\n",
    "\n",
    "file_dir = './Gerd_C_LA_U/'\n",
    "\n",
    "for i in range(len(trdf)):\n",
    "    label_tr = trdf.loc[i,'label']\n",
    "    imgpath = trdf.loc[i,'path']\n",
    "    if label_tr>1:\n",
    "        label_tr = 1\n",
    "        label_name = 'esophagitis-b-d'\n",
    "    else:\n",
    "        label_tr = 0\n",
    "        label_name = 'esophagitis-0-a'\n",
    "    img = cv2.imread(imgpath)\n",
    "    path = file_dir+'train/'+label_name+\"/\"\n",
    "    if not os.path.exists(path):\n",
    "        os.makedirs(path)\n",
    "    try:\n",
    "        cv2.imwrite(path+imgpath.split('/')[3]+str(i)+'.jpg',img)\n",
    "        tr.append([path+imgpath.split('/')[3]+str(i)+'.jpg',label_name])\n",
    "\n",
    "        rs = resizing(img)\n",
    "\n",
    "        j = random.randint(0,2)\n",
    "        if j == 0:\n",
    "            rs = rotate(rs, 90)\n",
    "        elif j ==1:\n",
    "            rs = rotate(rs, 180)\n",
    "        elif j == 2:\n",
    "            rs = flip(rs)\n",
    "\n",
    "        cv2.imwrite(path+imgpath.split('/')[3]+str(i)+'_re.jpg',img)\n",
    "        tr.append([path+imgpath.split('/')[3]+str(i)+'._re.jpg',label_name])\n",
    "    except Exception as e:\n",
    "        print(e)\n",
    "\n"
   ]
  },
  {
   "cell_type": "code",
   "execution_count": 9,
   "metadata": {},
   "outputs": [
    {
     "name": "stderr",
     "output_type": "stream",
     "text": [
      "/tmp/ipykernel_421029/1210968649.py:3: FutureWarning: Downcasting behavior in `replace` is deprecated and will be removed in a future version. To retain the old behavior, explicitly call `result.infer_objects(copy=False)`. To opt-in to the future behavior, set `pd.set_option('future.no_silent_downcasting', True)`\n",
      "  traudf.replace('esophagitis-0-a',0,inplace=True)\n"
     ]
    }
   ],
   "source": [
    "traudf = pd.DataFrame(tr,columns=['path','label'])\n",
    "traudf.replace('esophagitis-b-d',1,inplace=True)\n",
    "traudf.replace('esophagitis-0-a',0,inplace=True)\n",
    "traudf.to_csv('./Gerd_C_LA_train_u.csv')"
   ]
  },
  {
   "cell_type": "code",
   "execution_count": 10,
   "metadata": {},
   "outputs": [
    {
     "name": "stdout",
     "output_type": "stream",
     "text": [
      "OpenCV(4.10.0) /croot/opencv-suite_1722029125240/work/modules/imgcodecs/src/loadsave.cpp:798: error: (-215:Assertion failed) !_img.empty() in function 'imwrite'\n",
      "\n"
     ]
    },
    {
     "name": "stderr",
     "output_type": "stream",
     "text": [
      "[ WARN:0@424.671] global loadsave.cpp:241 findDecoder imread_('./胃镜数据_术前/其他手术/李丽波 A II/术前/食管/6.bmp'): can't open/read file: check file path/integrity\n",
      "[ WARN:0@428.033] global loadsave.cpp:241 findDecoder imread_('./胃镜数据_术前/其他手术/李丽波 A II/术前/食管/3.bmp'): can't open/read file: check file path/integrity\n"
     ]
    },
    {
     "name": "stdout",
     "output_type": "stream",
     "text": [
      "OpenCV(4.10.0) /croot/opencv-suite_1722029125240/work/modules/imgcodecs/src/loadsave.cpp:798: error: (-215:Assertion failed) !_img.empty() in function 'imwrite'\n",
      "\n"
     ]
    },
    {
     "name": "stderr",
     "output_type": "stream",
     "text": [
      "[ WARN:0@428.784] global loadsave.cpp:241 findDecoder imread_('./胃镜数据_术前/其他手术/李丽波 A II/术前/食管/9.bmp'): can't open/read file: check file path/integrity\n"
     ]
    },
    {
     "name": "stdout",
     "output_type": "stream",
     "text": [
      "OpenCV(4.10.0) /croot/opencv-suite_1722029125240/work/modules/imgcodecs/src/loadsave.cpp:798: error: (-215:Assertion failed) !_img.empty() in function 'imwrite'\n",
      "\n"
     ]
    }
   ],
   "source": [
    "ts = []\n",
    "\n",
    "file_dir = './Gerd_C_LA_U/'\n",
    "\n",
    "for i in range(len(tsdf)):\n",
    "    label_tr = tsdf.loc[i,'label']\n",
    "    imgpath = tsdf.loc[i,'path']\n",
    "    if label_tr>1:\n",
    "        label_tr = 1\n",
    "        label_name = 'esophagitis-b-d'\n",
    "    else:\n",
    "        label_tr = 0\n",
    "        label_name = 'esophagitis-0-a'\n",
    "    img = cv2.imread(imgpath)\n",
    "    path = file_dir+'test/'+label_name+\"/\"\n",
    "    if not os.path.exists(path):\n",
    "        os.makedirs(path)\n",
    "    try:\n",
    "        cv2.imwrite(path+imgpath.split('/')[3]+str(i)+'.jpg',img)\n",
    "        ts.append([path+imgpath.split('/')[3]+str(i)+'.jpg',label_name])\n",
    "\n",
    "        rs = resizing(img)\n",
    "\n",
    "        j = random.randint(0,2)\n",
    "        if j == 0:\n",
    "            rs = rotate(rs, 90)\n",
    "        elif j ==1:\n",
    "            rs = rotate(rs, 180)\n",
    "        elif j == 2:\n",
    "            rs = flip(rs)\n",
    "\n",
    "        cv2.imwrite(path+imgpath.split('/')[3]+str(i)+'_re.jpg',img)\n",
    "        ts.append([path+imgpath.split('/')[3]+str(i)+'._re.jpg',label_name])\n",
    "    except Exception as e:\n",
    "        print(e)\n",
    "\n"
   ]
  },
  {
   "cell_type": "code",
   "execution_count": 11,
   "metadata": {},
   "outputs": [
    {
     "name": "stderr",
     "output_type": "stream",
     "text": [
      "/tmp/ipykernel_421029/2005005616.py:3: FutureWarning: Downcasting behavior in `replace` is deprecated and will be removed in a future version. To retain the old behavior, explicitly call `result.infer_objects(copy=False)`. To opt-in to the future behavior, set `pd.set_option('future.no_silent_downcasting', True)`\n",
      "  tsaudf.replace('esophagitis-0-a',0,inplace=True)\n"
     ]
    }
   ],
   "source": [
    "tsaudf = pd.DataFrame(ts,columns=['path','label'])\n",
    "tsaudf.replace('esophagitis-b-d',1,inplace=True)\n",
    "tsaudf.replace('esophagitis-0-a',0,inplace=True)\n",
    "tsaudf.to_csv('./Gerd_C_LA_test_u.csv')"
   ]
  },
  {
   "cell_type": "code",
   "execution_count": 20,
   "metadata": {},
   "outputs": [],
   "source": [
    "import matplotlib.pyplot as plt\n",
    "plt.rc('font',family='Arial')\n",
    "record_train = pd.read_csv('../output/temp_data/record_train.csv',index_col=0)"
   ]
  },
  {
   "cell_type": "code",
   "execution_count": 11,
   "metadata": {},
   "outputs": [
    {
     "data": {
      "application/vnd.microsoft.datawrangler.viewer.v0+json": {
       "columns": [
        {
         "name": "index",
         "rawType": "int64",
         "type": "integer"
        },
        {
         "name": "acc",
         "rawType": "float64",
         "type": "float"
        }
       ],
       "ref": "16affcee-124c-4d47-bcf6-88a21e6b524f",
       "rows": [
        [
         "0",
         "60.55185801442041"
        ],
        [
         "1",
         "62.21575152523572"
        ]
       ],
       "shape": {
        "columns": 1,
        "rows": 2
       }
      },
      "text/html": [
       "<div>\n",
       "<style scoped>\n",
       "    .dataframe tbody tr th:only-of-type {\n",
       "        vertical-align: middle;\n",
       "    }\n",
       "\n",
       "    .dataframe tbody tr th {\n",
       "        vertical-align: top;\n",
       "    }\n",
       "\n",
       "    .dataframe thead th {\n",
       "        text-align: right;\n",
       "    }\n",
       "</style>\n",
       "<table border=\"1\" class=\"dataframe\">\n",
       "  <thead>\n",
       "    <tr style=\"text-align: right;\">\n",
       "      <th></th>\n",
       "      <th>acc</th>\n",
       "    </tr>\n",
       "  </thead>\n",
       "  <tbody>\n",
       "    <tr>\n",
       "      <th>0</th>\n",
       "      <td>60.551858</td>\n",
       "    </tr>\n",
       "    <tr>\n",
       "      <th>1</th>\n",
       "      <td>62.215752</td>\n",
       "    </tr>\n",
       "  </tbody>\n",
       "</table>\n",
       "</div>"
      ],
      "text/plain": [
       "         acc\n",
       "0  60.551858\n",
       "1  62.215752"
      ]
     },
     "execution_count": 11,
     "metadata": {},
     "output_type": "execute_result"
    }
   ],
   "source": [
    "record_train.head(2)"
   ]
  },
  {
   "cell_type": "code",
   "execution_count": 21,
   "metadata": {},
   "outputs": [
    {
     "data": {
      "image/png": "[encoded data removed]",
      "text/plain": [
       "<Figure size 640x480 with 1 Axes>"
      ]
     },
     "metadata": {},
     "output_type": "display_data"
    }
   ],
   "source": [
    "\n",
    "def learning_curve(record_train, record_test=None):\n",
    "    plt.clf()\n",
    "    plt.style.use(\"ggplot\")\n",
    "\n",
    "    plt.plot(range(1, len(record_train) + 1), record_train, label=\"train acc\")\n",
    "    # if record_test is not None:\n",
    "    #     plt.plot(range(1, len(record_test) + 1), record_test, label=\"test acc\")\n",
    "\n",
    "    plt.legend(loc=4)\n",
    "    plt.title(\"learning curve\")\n",
    "    plt.xticks(range(0, len(record_train) + 1, 20))\n",
    "    plt.yticks(range(0, 101, 5))\n",
    "    plt.xlabel(\"epoch\")\n",
    "    plt.ylabel(\"accuracy\")\n",
    "    plt.savefig('Train_Epoch_ACC.png')\n",
    "learning_curve(record_train)"
   ]
  },
  {
   "cell_type": "code",
   "execution_count": 22,
   "metadata": {},
   "outputs": [],
   "source": [
    "train_AUC = pd.read_csv('../output/temp_data/train_AUC.csv',index_col=0)"
   ]
  },
  {
   "cell_type": "code",
   "execution_count": 23,
   "metadata": {},
   "outputs": [
    {
     "data": {
      "image/png": "[encoded data removed]",
      "text/plain": [
       "<Figure size 640x480 with 1 Axes>"
      ]
     },
     "metadata": {},
     "output_type": "display_data"
    }
   ],
   "source": [
    "def plot_AUC(train_AUC, record_test=None):\n",
    "    plt.clf()\n",
    "    plt.style.use(\"ggplot\")\n",
    "\n",
    "    plt.plot(range(1, len(train_AUC) + 1), train_AUC, label=\"train AUC\")\n",
    "    # if record_test is not None:\n",
    "    #     plt.plot(range(1, len(record_test) + 1), record_test, label=\"test acc\")\n",
    "\n",
    "    plt.legend(loc=4)\n",
    "    plt.title(\"Epoch AUC\")\n",
    "    plt.xticks(range(0, len(train_AUC) + 1, 20))\n",
    "    plt.yticks(range(0, 101, 5))\n",
    "    plt.xlabel(\"epoch\")\n",
    "    plt.ylabel(\"AUC\")\n",
    "    # plt.savefig('ResNet50_last.png')\n",
    "    plt.savefig('Train_Epoch_AUC.png')\n",
    "plot_AUC(train_AUC)"
   ]
  }
 ],
 "metadata": {
  "kernelspec": {
   "display_name": "AICore",
   "language": "python",
   "name": "python3"
  },
  "language_info": {
   "codemirror_mode": {
    "name": "ipython",
    "version": 3
   },
   "file_extension": ".py",
   "mimetype": "text/x-python",
   "name": "python",
   "nbconvert_exporter": "python",
   "pygments_lexer": "ipython3",
   "version": "3.12.2"
  }
 },
 "nbformat": 4,
 "nbformat_minor": 2
}
